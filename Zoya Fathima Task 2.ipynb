{
 "cells": [
  {
   "cell_type": "code",
   "execution_count": 1,
   "id": "872bf997",
   "metadata": {},
   "outputs": [],
   "source": [
    "num=2.5"
   ]
  },
  {
   "cell_type": "code",
   "execution_count": 2,
   "id": "18f9aaf2",
   "metadata": {},
   "outputs": [
    {
     "data": {
      "text/plain": [
       "float"
      ]
     },
     "execution_count": 2,
     "metadata": {},
     "output_type": "execute_result"
    }
   ],
   "source": [
    "type(num)"
   ]
  },
  {
   "cell_type": "code",
   "execution_count": 3,
   "id": "51a32d29",
   "metadata": {},
   "outputs": [],
   "source": [
    "num=5"
   ]
  },
  {
   "cell_type": "code",
   "execution_count": 4,
   "id": "32974ea1",
   "metadata": {},
   "outputs": [
    {
     "data": {
      "text/plain": [
       "int"
      ]
     },
     "execution_count": 4,
     "metadata": {},
     "output_type": "execute_result"
    }
   ],
   "source": [
    "type(num)"
   ]
  },
  {
   "cell_type": "code",
   "execution_count": 5,
   "id": "498ec573",
   "metadata": {},
   "outputs": [],
   "source": [
    "n=1+3j"
   ]
  },
  {
   "cell_type": "code",
   "execution_count": 6,
   "id": "3a2e19f9",
   "metadata": {},
   "outputs": [
    {
     "data": {
      "text/plain": [
       "complex"
      ]
     },
     "execution_count": 6,
     "metadata": {},
     "output_type": "execute_result"
    }
   ],
   "source": [
    "type(n)"
   ]
  },
  {
   "cell_type": "code",
   "execution_count": 7,
   "id": "c35bc8f1",
   "metadata": {},
   "outputs": [],
   "source": [
    "a=8.5"
   ]
  },
  {
   "cell_type": "code",
   "execution_count": 8,
   "id": "e17ec7af",
   "metadata": {},
   "outputs": [],
   "source": [
    "b=int(a)"
   ]
  },
  {
   "cell_type": "code",
   "execution_count": 9,
   "id": "9f01fdf5",
   "metadata": {},
   "outputs": [
    {
     "data": {
      "text/plain": [
       "8"
      ]
     },
     "execution_count": 9,
     "metadata": {},
     "output_type": "execute_result"
    }
   ],
   "source": [
    "b"
   ]
  },
  {
   "cell_type": "code",
   "execution_count": 10,
   "id": "58a21b1e",
   "metadata": {},
   "outputs": [],
   "source": [
    "c=float(b)"
   ]
  },
  {
   "cell_type": "code",
   "execution_count": 11,
   "id": "803a7cc5",
   "metadata": {},
   "outputs": [
    {
     "data": {
      "text/plain": [
       "8.0"
      ]
     },
     "execution_count": 11,
     "metadata": {},
     "output_type": "execute_result"
    }
   ],
   "source": [
    "c"
   ]
  },
  {
   "cell_type": "code",
   "execution_count": 12,
   "id": "1038e339",
   "metadata": {},
   "outputs": [],
   "source": [
    "d=complex(b,c)"
   ]
  },
  {
   "cell_type": "code",
   "execution_count": 13,
   "id": "94e37a88",
   "metadata": {},
   "outputs": [
    {
     "data": {
      "text/plain": [
       "(8+8j)"
      ]
     },
     "execution_count": 13,
     "metadata": {},
     "output_type": "execute_result"
    }
   ],
   "source": [
    "d"
   ]
  },
  {
   "cell_type": "code",
   "execution_count": 26,
   "id": "b165fbb8",
   "metadata": {},
   "outputs": [
    {
     "data": {
      "text/plain": [
       "True"
      ]
     },
     "execution_count": 26,
     "metadata": {},
     "output_type": "execute_result"
    }
   ],
   "source": [
    "a=7\n",
    "b=5\n",
    "a>b"
   ]
  },
  {
   "cell_type": "code",
   "execution_count": 27,
   "id": "b87338c9",
   "metadata": {},
   "outputs": [
    {
     "data": {
      "text/plain": [
       "False"
      ]
     },
     "execution_count": 27,
     "metadata": {},
     "output_type": "execute_result"
    }
   ],
   "source": [
    "a=55\n",
    "b=77\n",
    "bool(a>b)"
   ]
  },
  {
   "cell_type": "code",
   "execution_count": 29,
   "id": "b903c533",
   "metadata": {},
   "outputs": [
    {
     "data": {
      "text/plain": [
       "1"
      ]
     },
     "execution_count": 29,
     "metadata": {},
     "output_type": "execute_result"
    }
   ],
   "source": [
    "int(True)"
   ]
  },
  {
   "cell_type": "code",
   "execution_count": 1,
   "id": "7420ca7d",
   "metadata": {},
   "outputs": [
    {
     "data": {
      "text/plain": [
       "type"
      ]
     },
     "execution_count": 1,
     "metadata": {},
     "output_type": "execute_result"
    }
   ],
   "source": [
    "type(bool)"
   ]
  },
  {
   "cell_type": "code",
   "execution_count": 30,
   "id": "cbcd6780",
   "metadata": {},
   "outputs": [
    {
     "data": {
      "text/plain": [
       "0"
      ]
     },
     "execution_count": 30,
     "metadata": {},
     "output_type": "execute_result"
    }
   ],
   "source": [
    "int(False)"
   ]
  },
  {
   "cell_type": "code",
   "execution_count": 31,
   "id": "87b396fc",
   "metadata": {},
   "outputs": [],
   "source": [
    "a=[11,23,44]"
   ]
  },
  {
   "cell_type": "code",
   "execution_count": 32,
   "id": "02435104",
   "metadata": {},
   "outputs": [
    {
     "data": {
      "text/plain": [
       "list"
      ]
     },
     "execution_count": 32,
     "metadata": {},
     "output_type": "execute_result"
    }
   ],
   "source": [
    "type(a)"
   ]
  },
  {
   "cell_type": "code",
   "execution_count": 33,
   "id": "1e862d29",
   "metadata": {},
   "outputs": [],
   "source": [
    "a=(11,33,44)"
   ]
  },
  {
   "cell_type": "code",
   "execution_count": 34,
   "id": "bc93fa03",
   "metadata": {},
   "outputs": [
    {
     "data": {
      "text/plain": [
       "tuple"
      ]
     },
     "execution_count": 34,
     "metadata": {},
     "output_type": "execute_result"
    }
   ],
   "source": [
    "type(a)"
   ]
  },
  {
   "cell_type": "code",
   "execution_count": 35,
   "id": "2a176664",
   "metadata": {},
   "outputs": [],
   "source": [
    "a={11,22,33}"
   ]
  },
  {
   "cell_type": "code",
   "execution_count": 36,
   "id": "07d9aa65",
   "metadata": {},
   "outputs": [
    {
     "data": {
      "text/plain": [
       "set"
      ]
     },
     "execution_count": 36,
     "metadata": {},
     "output_type": "execute_result"
    }
   ],
   "source": [
    "type(a)"
   ]
  },
  {
   "cell_type": "code",
   "execution_count": 37,
   "id": "b8051b66",
   "metadata": {},
   "outputs": [],
   "source": [
    "b=\"Zoya\""
   ]
  },
  {
   "cell_type": "code",
   "execution_count": 38,
   "id": "f0cfbd91",
   "metadata": {},
   "outputs": [
    {
     "data": {
      "text/plain": [
       "str"
      ]
     },
     "execution_count": 38,
     "metadata": {},
     "output_type": "execute_result"
    }
   ],
   "source": [
    "type(b)"
   ]
  },
  {
   "cell_type": "code",
   "execution_count": 39,
   "id": "03c2158b",
   "metadata": {},
   "outputs": [],
   "source": [
    "b='zoya'"
   ]
  },
  {
   "cell_type": "code",
   "execution_count": 40,
   "id": "638d2551",
   "metadata": {},
   "outputs": [
    {
     "data": {
      "text/plain": [
       "str"
      ]
     },
     "execution_count": 40,
     "metadata": {},
     "output_type": "execute_result"
    }
   ],
   "source": [
    "type(b)"
   ]
  },
  {
   "cell_type": "code",
   "execution_count": 41,
   "id": "1c596bf3",
   "metadata": {},
   "outputs": [
    {
     "data": {
      "text/plain": [
       "range(0, 10)"
      ]
     },
     "execution_count": 41,
     "metadata": {},
     "output_type": "execute_result"
    }
   ],
   "source": [
    "range(10)"
   ]
  },
  {
   "cell_type": "code",
   "execution_count": 42,
   "id": "9c0e5cd3",
   "metadata": {},
   "outputs": [
    {
     "data": {
      "text/plain": [
       "[0, 1, 2, 3, 4, 5, 6, 7, 8, 9]"
      ]
     },
     "execution_count": 42,
     "metadata": {},
     "output_type": "execute_result"
    }
   ],
   "source": [
    "list(range(10))"
   ]
  },
  {
   "cell_type": "code",
   "execution_count": 46,
   "id": "a6e5d570",
   "metadata": {},
   "outputs": [
    {
     "data": {
      "text/plain": [
       "[2, 4, 6, 8, 10]"
      ]
     },
     "execution_count": 46,
     "metadata": {},
     "output_type": "execute_result"
    }
   ],
   "source": [
    "list(range(2,11,2))"
   ]
  },
  {
   "cell_type": "code",
   "execution_count": 47,
   "id": "b24e24d4",
   "metadata": {},
   "outputs": [
    {
     "data": {
      "text/plain": [
       "range"
      ]
     },
     "execution_count": 47,
     "metadata": {},
     "output_type": "execute_result"
    }
   ],
   "source": [
    "type(range(10))"
   ]
  },
  {
   "cell_type": "code",
   "execution_count": 51,
   "id": "ca50d55d",
   "metadata": {},
   "outputs": [],
   "source": [
    "d={\"Zoya\":\"vivo\",\"Ananya\":\"Oppo\"}"
   ]
  },
  {
   "cell_type": "code",
   "execution_count": 52,
   "id": "c5cce5d7",
   "metadata": {},
   "outputs": [
    {
     "data": {
      "text/plain": [
       "dict_keys(['Zoya', 'Ananya'])"
      ]
     },
     "execution_count": 52,
     "metadata": {},
     "output_type": "execute_result"
    }
   ],
   "source": [
    "d.keys()"
   ]
  },
  {
   "cell_type": "code",
   "execution_count": 53,
   "id": "c01da1cc",
   "metadata": {},
   "outputs": [
    {
     "data": {
      "text/plain": [
       "dict_values(['vivo', 'Oppo'])"
      ]
     },
     "execution_count": 53,
     "metadata": {},
     "output_type": "execute_result"
    }
   ],
   "source": [
    "d.values()"
   ]
  },
  {
   "cell_type": "code",
   "execution_count": 54,
   "id": "28bffdea",
   "metadata": {},
   "outputs": [
    {
     "data": {
      "text/plain": [
       "'vivo'"
      ]
     },
     "execution_count": 54,
     "metadata": {},
     "output_type": "execute_result"
    }
   ],
   "source": [
    "d['Zoya']"
   ]
  },
  {
   "cell_type": "code",
   "execution_count": 55,
   "id": "e8971ffc",
   "metadata": {},
   "outputs": [
    {
     "data": {
      "text/plain": [
       "'Oppo'"
      ]
     },
     "execution_count": 55,
     "metadata": {},
     "output_type": "execute_result"
    }
   ],
   "source": [
    "d.get('Ananya')"
   ]
  },
  {
   "cell_type": "code",
   "execution_count": 56,
   "id": "ef2ce528",
   "metadata": {},
   "outputs": [],
   "source": [
    "a=4\n",
    "b=7"
   ]
  },
  {
   "cell_type": "code",
   "execution_count": 57,
   "id": "1565f6d0",
   "metadata": {},
   "outputs": [
    {
     "data": {
      "text/plain": [
       "11"
      ]
     },
     "execution_count": 57,
     "metadata": {},
     "output_type": "execute_result"
    }
   ],
   "source": [
    "a+b"
   ]
  },
  {
   "cell_type": "code",
   "execution_count": 58,
   "id": "8a5ebf40",
   "metadata": {},
   "outputs": [
    {
     "data": {
      "text/plain": [
       "-3"
      ]
     },
     "execution_count": 58,
     "metadata": {},
     "output_type": "execute_result"
    }
   ],
   "source": [
    "a-b"
   ]
  },
  {
   "cell_type": "code",
   "execution_count": 59,
   "id": "97aef786",
   "metadata": {},
   "outputs": [
    {
     "data": {
      "text/plain": [
       "0.5714285714285714"
      ]
     },
     "execution_count": 59,
     "metadata": {},
     "output_type": "execute_result"
    }
   ],
   "source": [
    "a/b"
   ]
  },
  {
   "cell_type": "code",
   "execution_count": 60,
   "id": "b27e3a62",
   "metadata": {},
   "outputs": [],
   "source": [
    "a=a+7"
   ]
  },
  {
   "cell_type": "code",
   "execution_count": 61,
   "id": "ffbd727b",
   "metadata": {},
   "outputs": [
    {
     "data": {
      "text/plain": [
       "11"
      ]
     },
     "execution_count": 61,
     "metadata": {},
     "output_type": "execute_result"
    }
   ],
   "source": [
    "a"
   ]
  },
  {
   "cell_type": "code",
   "execution_count": 63,
   "id": "39ef48ee",
   "metadata": {},
   "outputs": [],
   "source": [
    "a+=2"
   ]
  },
  {
   "cell_type": "code",
   "execution_count": 64,
   "id": "d96f57e6",
   "metadata": {},
   "outputs": [
    {
     "data": {
      "text/plain": [
       "13"
      ]
     },
     "execution_count": 64,
     "metadata": {},
     "output_type": "execute_result"
    }
   ],
   "source": [
    "a"
   ]
  },
  {
   "cell_type": "code",
   "execution_count": 65,
   "id": "8509088b",
   "metadata": {},
   "outputs": [],
   "source": [
    "b*=2"
   ]
  },
  {
   "cell_type": "code",
   "execution_count": 66,
   "id": "4c518a56",
   "metadata": {},
   "outputs": [
    {
     "data": {
      "text/plain": [
       "14"
      ]
     },
     "execution_count": 66,
     "metadata": {},
     "output_type": "execute_result"
    }
   ],
   "source": [
    "b"
   ]
  },
  {
   "cell_type": "code",
   "execution_count": 67,
   "id": "07283782",
   "metadata": {},
   "outputs": [],
   "source": [
    "x,y=2,6"
   ]
  },
  {
   "cell_type": "code",
   "execution_count": 68,
   "id": "ef5bc866",
   "metadata": {},
   "outputs": [
    {
     "data": {
      "text/plain": [
       "2"
      ]
     },
     "execution_count": 68,
     "metadata": {},
     "output_type": "execute_result"
    }
   ],
   "source": [
    "x"
   ]
  },
  {
   "cell_type": "code",
   "execution_count": 69,
   "id": "a780b911",
   "metadata": {},
   "outputs": [
    {
     "data": {
      "text/plain": [
       "6"
      ]
     },
     "execution_count": 69,
     "metadata": {},
     "output_type": "execute_result"
    }
   ],
   "source": [
    "y"
   ]
  },
  {
   "cell_type": "code",
   "execution_count": 70,
   "id": "f5712c9b",
   "metadata": {},
   "outputs": [
    {
     "data": {
      "text/plain": [
       "-2"
      ]
     },
     "execution_count": 70,
     "metadata": {},
     "output_type": "execute_result"
    }
   ],
   "source": [
    "-x"
   ]
  },
  {
   "cell_type": "code",
   "execution_count": 71,
   "id": "998f8021",
   "metadata": {},
   "outputs": [
    {
     "data": {
      "text/plain": [
       "2"
      ]
     },
     "execution_count": 71,
     "metadata": {},
     "output_type": "execute_result"
    }
   ],
   "source": [
    "x"
   ]
  },
  {
   "cell_type": "code",
   "execution_count": 72,
   "id": "f5c8a316",
   "metadata": {},
   "outputs": [],
   "source": [
    "x=-x"
   ]
  },
  {
   "cell_type": "code",
   "execution_count": 73,
   "id": "9f824efc",
   "metadata": {},
   "outputs": [
    {
     "data": {
      "text/plain": [
       "-2"
      ]
     },
     "execution_count": 73,
     "metadata": {},
     "output_type": "execute_result"
    }
   ],
   "source": [
    "x"
   ]
  },
  {
   "cell_type": "code",
   "execution_count": 74,
   "id": "ec6011c0",
   "metadata": {},
   "outputs": [
    {
     "data": {
      "text/plain": [
       "False"
      ]
     },
     "execution_count": 74,
     "metadata": {},
     "output_type": "execute_result"
    }
   ],
   "source": [
    "x>y"
   ]
  },
  {
   "cell_type": "code",
   "execution_count": 75,
   "id": "ba6960bc",
   "metadata": {},
   "outputs": [
    {
     "data": {
      "text/plain": [
       "True"
      ]
     },
     "execution_count": 75,
     "metadata": {},
     "output_type": "execute_result"
    }
   ],
   "source": [
    "x<y"
   ]
  },
  {
   "cell_type": "code",
   "execution_count": 76,
   "id": "ece25a4b",
   "metadata": {},
   "outputs": [
    {
     "data": {
      "text/plain": [
       "False"
      ]
     },
     "execution_count": 76,
     "metadata": {},
     "output_type": "execute_result"
    }
   ],
   "source": [
    "x==y"
   ]
  },
  {
   "cell_type": "code",
   "execution_count": 77,
   "id": "b7e5837a",
   "metadata": {},
   "outputs": [],
   "source": [
    "a,b=5,5"
   ]
  },
  {
   "cell_type": "code",
   "execution_count": 78,
   "id": "38a9ea8e",
   "metadata": {},
   "outputs": [
    {
     "data": {
      "text/plain": [
       "True"
      ]
     },
     "execution_count": 78,
     "metadata": {},
     "output_type": "execute_result"
    }
   ],
   "source": [
    "a==b"
   ]
  },
  {
   "cell_type": "code",
   "execution_count": 79,
   "id": "30c168be",
   "metadata": {},
   "outputs": [
    {
     "data": {
      "text/plain": [
       "True"
      ]
     },
     "execution_count": 79,
     "metadata": {},
     "output_type": "execute_result"
    }
   ],
   "source": [
    "a<=b"
   ]
  },
  {
   "cell_type": "code",
   "execution_count": 80,
   "id": "b801b2a1",
   "metadata": {},
   "outputs": [
    {
     "data": {
      "text/plain": [
       "False"
      ]
     },
     "execution_count": 80,
     "metadata": {},
     "output_type": "execute_result"
    }
   ],
   "source": [
    "a!=b"
   ]
  },
  {
   "cell_type": "code",
   "execution_count": 81,
   "id": "a62c1df8",
   "metadata": {},
   "outputs": [],
   "source": [
    "a=6\n",
    "b=8"
   ]
  },
  {
   "cell_type": "code",
   "execution_count": 84,
   "id": "c23d47a4",
   "metadata": {},
   "outputs": [
    {
     "data": {
      "text/plain": [
       "True"
      ]
     },
     "execution_count": 84,
     "metadata": {},
     "output_type": "execute_result"
    }
   ],
   "source": [
    "a<8 and b>5"
   ]
  },
  {
   "cell_type": "code",
   "execution_count": 85,
   "id": "178cedf5",
   "metadata": {},
   "outputs": [
    {
     "data": {
      "text/plain": [
       "False"
      ]
     },
     "execution_count": 85,
     "metadata": {},
     "output_type": "execute_result"
    }
   ],
   "source": [
    "a<8 and b<5"
   ]
  },
  {
   "cell_type": "code",
   "execution_count": 86,
   "id": "971d2dfa",
   "metadata": {},
   "outputs": [
    {
     "data": {
      "text/plain": [
       "True"
      ]
     },
     "execution_count": 86,
     "metadata": {},
     "output_type": "execute_result"
    }
   ],
   "source": [
    "a<8 or b<5"
   ]
  },
  {
   "cell_type": "code",
   "execution_count": 87,
   "id": "7b48334b",
   "metadata": {},
   "outputs": [],
   "source": [
    "x=True"
   ]
  },
  {
   "cell_type": "code",
   "execution_count": 88,
   "id": "a7923599",
   "metadata": {},
   "outputs": [
    {
     "data": {
      "text/plain": [
       "False"
      ]
     },
     "execution_count": 88,
     "metadata": {},
     "output_type": "execute_result"
    }
   ],
   "source": [
    "not x"
   ]
  },
  {
   "cell_type": "code",
   "execution_count": 89,
   "id": "6f961673",
   "metadata": {},
   "outputs": [
    {
     "data": {
      "text/plain": [
       "'0b11001'"
      ]
     },
     "execution_count": 89,
     "metadata": {},
     "output_type": "execute_result"
    }
   ],
   "source": [
    "bin(25)"
   ]
  },
  {
   "cell_type": "code",
   "execution_count": 90,
   "id": "86e9575e",
   "metadata": {},
   "outputs": [
    {
     "data": {
      "text/plain": [
       "1"
      ]
     },
     "execution_count": 90,
     "metadata": {},
     "output_type": "execute_result"
    }
   ],
   "source": [
    "0b001"
   ]
  },
  {
   "cell_type": "code",
   "execution_count": 91,
   "id": "d591cfac",
   "metadata": {},
   "outputs": [
    {
     "data": {
      "text/plain": [
       "'0o31'"
      ]
     },
     "execution_count": 91,
     "metadata": {},
     "output_type": "execute_result"
    }
   ],
   "source": [
    "oct(25)"
   ]
  },
  {
   "cell_type": "code",
   "execution_count": 92,
   "id": "4b39cc59",
   "metadata": {},
   "outputs": [
    {
     "data": {
      "text/plain": [
       "'0x19'"
      ]
     },
     "execution_count": 92,
     "metadata": {},
     "output_type": "execute_result"
    }
   ],
   "source": [
    "hex(25)"
   ]
  },
  {
   "cell_type": "code",
   "execution_count": 93,
   "id": "9658c301",
   "metadata": {},
   "outputs": [
    {
     "data": {
      "text/plain": [
       "17"
      ]
     },
     "execution_count": 93,
     "metadata": {},
     "output_type": "execute_result"
    }
   ],
   "source": [
    "0x11"
   ]
  },
  {
   "cell_type": "code",
   "execution_count": 94,
   "id": "01fa292b",
   "metadata": {},
   "outputs": [
    {
     "data": {
      "text/plain": [
       "11"
      ]
     },
     "execution_count": 94,
     "metadata": {},
     "output_type": "execute_result"
    }
   ],
   "source": [
    "0xb"
   ]
  },
  {
   "cell_type": "code",
   "execution_count": 95,
   "id": "a9a1222d",
   "metadata": {},
   "outputs": [
    {
     "data": {
      "text/plain": [
       "'0b11111'"
      ]
     },
     "execution_count": 95,
     "metadata": {},
     "output_type": "execute_result"
    }
   ],
   "source": [
    "bin(31)"
   ]
  },
  {
   "cell_type": "code",
   "execution_count": 96,
   "id": "7d847bd2",
   "metadata": {},
   "outputs": [
    {
     "data": {
      "text/plain": [
       "'0b110100'"
      ]
     },
     "execution_count": 96,
     "metadata": {},
     "output_type": "execute_result"
    }
   ],
   "source": [
    "bin(52)"
   ]
  },
  {
   "cell_type": "code",
   "execution_count": 97,
   "id": "0c9bf16a",
   "metadata": {},
   "outputs": [
    {
     "data": {
      "text/plain": [
       "'0b1000001'"
      ]
     },
     "execution_count": 97,
     "metadata": {},
     "output_type": "execute_result"
    }
   ],
   "source": [
    "bin(65)"
   ]
  },
  {
   "cell_type": "code",
   "execution_count": 99,
   "id": "6054325e",
   "metadata": {},
   "outputs": [
    {
     "data": {
      "text/plain": [
       "410"
      ]
     },
     "execution_count": 99,
     "metadata": {},
     "output_type": "execute_result"
    }
   ],
   "source": [
    "0b110011010"
   ]
  },
  {
   "cell_type": "code",
   "execution_count": 101,
   "id": "978a58aa",
   "metadata": {},
   "outputs": [
    {
     "data": {
      "text/plain": [
       "-13"
      ]
     },
     "execution_count": 101,
     "metadata": {},
     "output_type": "execute_result"
    }
   ],
   "source": [
    "~12"
   ]
  },
  {
   "cell_type": "code",
   "execution_count": 102,
   "id": "adbe3980",
   "metadata": {},
   "outputs": [
    {
     "data": {
      "text/plain": [
       "-1"
      ]
     },
     "execution_count": 102,
     "metadata": {},
     "output_type": "execute_result"
    }
   ],
   "source": [
    "~0"
   ]
  },
  {
   "cell_type": "code",
   "execution_count": 104,
   "id": "80ea8706",
   "metadata": {},
   "outputs": [
    {
     "data": {
      "text/plain": [
       "-13"
      ]
     },
     "execution_count": 104,
     "metadata": {},
     "output_type": "execute_result"
    }
   ],
   "source": [
    "~0b00001100"
   ]
  },
  {
   "cell_type": "code",
   "execution_count": 106,
   "id": "77a68cfe",
   "metadata": {},
   "outputs": [
    {
     "data": {
      "text/plain": [
       "-244"
      ]
     },
     "execution_count": 106,
     "metadata": {},
     "output_type": "execute_result"
    }
   ],
   "source": [
    "~0b11110011"
   ]
  },
  {
   "cell_type": "code",
   "execution_count": 107,
   "id": "5ae8e60d",
   "metadata": {},
   "outputs": [
    {
     "data": {
      "text/plain": [
       "'0b101101'"
      ]
     },
     "execution_count": 107,
     "metadata": {},
     "output_type": "execute_result"
    }
   ],
   "source": [
    "bin(45)"
   ]
  },
  {
   "cell_type": "code",
   "execution_count": 108,
   "id": "2da71123",
   "metadata": {},
   "outputs": [
    {
     "data": {
      "text/plain": [
       "'0b1111001'"
      ]
     },
     "execution_count": 108,
     "metadata": {},
     "output_type": "execute_result"
    }
   ],
   "source": [
    "bin(121)"
   ]
  },
  {
   "cell_type": "code",
   "execution_count": 109,
   "id": "b35d430c",
   "metadata": {},
   "outputs": [
    {
     "data": {
      "text/plain": [
       "-46"
      ]
     },
     "execution_count": 109,
     "metadata": {},
     "output_type": "execute_result"
    }
   ],
   "source": [
    "~45"
   ]
  },
  {
   "cell_type": "code",
   "execution_count": 110,
   "id": "6d615c35",
   "metadata": {},
   "outputs": [
    {
     "data": {
      "text/plain": [
       "'0b101110'"
      ]
     },
     "execution_count": 110,
     "metadata": {},
     "output_type": "execute_result"
    }
   ],
   "source": [
    "bin(46)"
   ]
  },
  {
   "cell_type": "code",
   "execution_count": 111,
   "id": "4445a721",
   "metadata": {},
   "outputs": [
    {
     "data": {
      "text/plain": [
       "'-0b101110'"
      ]
     },
     "execution_count": 111,
     "metadata": {},
     "output_type": "execute_result"
    }
   ],
   "source": [
    "bin(-46)"
   ]
  },
  {
   "cell_type": "code",
   "execution_count": 112,
   "id": "bc6cc67a",
   "metadata": {},
   "outputs": [
    {
     "data": {
      "text/plain": [
       "6"
      ]
     },
     "execution_count": 112,
     "metadata": {},
     "output_type": "execute_result"
    }
   ],
   "source": [
    "14&23"
   ]
  },
  {
   "cell_type": "code",
   "execution_count": 113,
   "id": "a10dfc33",
   "metadata": {},
   "outputs": [
    {
     "data": {
      "text/plain": [
       "13"
      ]
     },
     "execution_count": 113,
     "metadata": {},
     "output_type": "execute_result"
    }
   ],
   "source": [
    "12|13"
   ]
  },
  {
   "cell_type": "code",
   "execution_count": 114,
   "id": "5ddddbc4",
   "metadata": {},
   "outputs": [
    {
     "data": {
      "text/plain": [
       "8"
      ]
     },
     "execution_count": 114,
     "metadata": {},
     "output_type": "execute_result"
    }
   ],
   "source": [
    "25&44"
   ]
  },
  {
   "cell_type": "code",
   "execution_count": 115,
   "id": "4672f133",
   "metadata": {},
   "outputs": [
    {
     "data": {
      "text/plain": [
       "'0b11001'"
      ]
     },
     "execution_count": 115,
     "metadata": {},
     "output_type": "execute_result"
    }
   ],
   "source": [
    "bin(25)"
   ]
  },
  {
   "cell_type": "code",
   "execution_count": 116,
   "id": "587b8f4e",
   "metadata": {},
   "outputs": [
    {
     "data": {
      "text/plain": [
       "'0b11110'"
      ]
     },
     "execution_count": 116,
     "metadata": {},
     "output_type": "execute_result"
    }
   ],
   "source": [
    "bin(30)"
   ]
  },
  {
   "cell_type": "code",
   "execution_count": 117,
   "id": "83b2f84b",
   "metadata": {},
   "outputs": [
    {
     "data": {
      "text/plain": [
       "1"
      ]
     },
     "execution_count": 117,
     "metadata": {},
     "output_type": "execute_result"
    }
   ],
   "source": [
    "12^13"
   ]
  },
  {
   "cell_type": "code",
   "execution_count": 118,
   "id": "0bb864be",
   "metadata": {},
   "outputs": [
    {
     "data": {
      "text/plain": [
       "7"
      ]
     },
     "execution_count": 118,
     "metadata": {},
     "output_type": "execute_result"
    }
   ],
   "source": [
    "25^30"
   ]
  },
  {
   "cell_type": "code",
   "execution_count": 119,
   "id": "24002c65",
   "metadata": {},
   "outputs": [
    {
     "data": {
      "text/plain": [
       "40"
      ]
     },
     "execution_count": 119,
     "metadata": {},
     "output_type": "execute_result"
    }
   ],
   "source": [
    "10<<2"
   ]
  },
  {
   "cell_type": "code",
   "execution_count": 120,
   "id": "0d7a93b5",
   "metadata": {},
   "outputs": [
    {
     "data": {
      "text/plain": [
       "2"
      ]
     },
     "execution_count": 120,
     "metadata": {},
     "output_type": "execute_result"
    }
   ],
   "source": [
    "10>>2"
   ]
  },
  {
   "cell_type": "code",
   "execution_count": 6,
   "id": "8d3507b4",
   "metadata": {},
   "outputs": [
    {
     "name": "stdout",
     "output_type": "stream",
     "text": [
      "Enter the first number5\n",
      "Enter the second number5\n"
     ]
    }
   ],
   "source": [
    "x=input(\"Enter the first number\")\n",
    "a=int(x)\n",
    "y=input(\"Enter the second number\")\n",
    "b=int(y)\n",
    "z=a+b"
   ]
  },
  {
   "cell_type": "code",
   "execution_count": 7,
   "id": "671f50de",
   "metadata": {},
   "outputs": [
    {
     "name": "stdout",
     "output_type": "stream",
     "text": [
      "Enter the first number4\n",
      "Enter the second number5\n",
      "9\n"
     ]
    }
   ],
   "source": [
    "x=int(input(\"Enter the first number\"))\n",
    "y=int(input(\"Enter the second number\"))\n",
    "print(x+y)\n"
   ]
  },
  {
   "cell_type": "code",
   "execution_count": 9,
   "id": "3c6237b1",
   "metadata": {},
   "outputs": [
    {
     "name": "stdout",
     "output_type": "stream",
     "text": [
      "Enter a charjj\n",
      "j\n"
     ]
    }
   ],
   "source": [
    "ch=input(\"Enter a char\")\n",
    "print(ch[0])"
   ]
  },
  {
   "cell_type": "code",
   "execution_count": 10,
   "id": "fd275bb7",
   "metadata": {},
   "outputs": [
    {
     "name": "stdout",
     "output_type": "stream",
     "text": [
      "Enter a charhhh\n",
      "h\n"
     ]
    }
   ],
   "source": [
    "ch=input(\"Enter a char\")[0]\n",
    "print(ch)"
   ]
  },
  {
   "cell_type": "code",
   "execution_count": 12,
   "id": "fc81a321",
   "metadata": {},
   "outputs": [
    {
     "name": "stdout",
     "output_type": "stream",
     "text": [
      "Enter the expr5+2*3\n",
      "11\n"
     ]
    }
   ],
   "source": [
    "result=eval(input(\"Enter the expr\"))\n",
    "print (result)"
   ]
  },
  {
   "cell_type": "code",
   "execution_count": 13,
   "id": "e3f9bdda",
   "metadata": {},
   "outputs": [
    {
     "name": "stdout",
     "output_type": "stream",
     "text": [
      "Enter the number5\n",
      "125\n"
     ]
    }
   ],
   "source": [
    "a=int(input(\"Enter the number\"))\n",
    "print(a*a*a)"
   ]
  },
  {
   "cell_type": "code",
   "execution_count": 14,
   "id": "24033fa5",
   "metadata": {},
   "outputs": [],
   "source": [
    "lst=[11,23,55,66,77]"
   ]
  },
  {
   "cell_type": "code",
   "execution_count": 15,
   "id": "ee64ff8b",
   "metadata": {},
   "outputs": [
    {
     "data": {
      "text/plain": [
       "[11, 23, 55, 66, 77]"
      ]
     },
     "execution_count": 15,
     "metadata": {},
     "output_type": "execute_result"
    }
   ],
   "source": [
    "lst"
   ]
  },
  {
   "cell_type": "code",
   "execution_count": 16,
   "id": "6a49ee4e",
   "metadata": {},
   "outputs": [
    {
     "data": {
      "text/plain": [
       "11"
      ]
     },
     "execution_count": 16,
     "metadata": {},
     "output_type": "execute_result"
    }
   ],
   "source": [
    "lst[0]"
   ]
  },
  {
   "cell_type": "code",
   "execution_count": 17,
   "id": "5b3d3c24",
   "metadata": {},
   "outputs": [
    {
     "data": {
      "text/plain": [
       "77"
      ]
     },
     "execution_count": 17,
     "metadata": {},
     "output_type": "execute_result"
    }
   ],
   "source": [
    "lst[-1]"
   ]
  },
  {
   "cell_type": "code",
   "execution_count": 19,
   "id": "2b80300e",
   "metadata": {},
   "outputs": [
    {
     "data": {
      "text/plain": [
       "[23, 55, 66, 77]"
      ]
     },
     "execution_count": 19,
     "metadata": {},
     "output_type": "execute_result"
    }
   ],
   "source": [
    "lst[1:]"
   ]
  },
  {
   "cell_type": "code",
   "execution_count": 20,
   "id": "5d22d3e3",
   "metadata": {},
   "outputs": [],
   "source": [
    "string=['zoya','anu','ayesha']\n"
   ]
  },
  {
   "cell_type": "code",
   "execution_count": 21,
   "id": "e1862cbd",
   "metadata": {},
   "outputs": [
    {
     "data": {
      "text/plain": [
       "['zoya', 'anu', 'ayesha']"
      ]
     },
     "execution_count": 21,
     "metadata": {},
     "output_type": "execute_result"
    }
   ],
   "source": [
    "string"
   ]
  },
  {
   "cell_type": "code",
   "execution_count": 22,
   "id": "d3a74163",
   "metadata": {},
   "outputs": [],
   "source": [
    "value=[22,'zoya',2.3]"
   ]
  },
  {
   "cell_type": "code",
   "execution_count": 25,
   "id": "577d8ecb",
   "metadata": {},
   "outputs": [],
   "source": [
    "lil=[lst,string]"
   ]
  },
  {
   "cell_type": "code",
   "execution_count": 26,
   "id": "35e04fa9",
   "metadata": {},
   "outputs": [
    {
     "data": {
      "text/plain": [
       "[[11, 23, 55, 66, 77], ['zoya', 'anu', 'ayesha']]"
      ]
     },
     "execution_count": 26,
     "metadata": {},
     "output_type": "execute_result"
    }
   ],
   "source": [
    "lil"
   ]
  },
  {
   "cell_type": "code",
   "execution_count": 27,
   "id": "a201d849",
   "metadata": {},
   "outputs": [],
   "source": [
    "lst.append(5)"
   ]
  },
  {
   "cell_type": "code",
   "execution_count": 28,
   "id": "0705f266",
   "metadata": {},
   "outputs": [
    {
     "data": {
      "text/plain": [
       "[11, 23, 55, 66, 77, 5]"
      ]
     },
     "execution_count": 28,
     "metadata": {},
     "output_type": "execute_result"
    }
   ],
   "source": [
    "lst"
   ]
  },
  {
   "cell_type": "code",
   "execution_count": 29,
   "id": "99d78e92",
   "metadata": {},
   "outputs": [],
   "source": [
    "lst.insert(1,66)"
   ]
  },
  {
   "cell_type": "code",
   "execution_count": 30,
   "id": "c2ea86e6",
   "metadata": {},
   "outputs": [
    {
     "data": {
      "text/plain": [
       "[11, 66, 23, 55, 66, 77, 5]"
      ]
     },
     "execution_count": 30,
     "metadata": {},
     "output_type": "execute_result"
    }
   ],
   "source": [
    "lst"
   ]
  },
  {
   "cell_type": "code",
   "execution_count": 32,
   "id": "7b088575",
   "metadata": {},
   "outputs": [
    {
     "data": {
      "text/plain": [
       "11"
      ]
     },
     "execution_count": 32,
     "metadata": {},
     "output_type": "execute_result"
    }
   ],
   "source": [
    "lst.pop(0)"
   ]
  },
  {
   "cell_type": "code",
   "execution_count": 33,
   "id": "3003bd93",
   "metadata": {},
   "outputs": [
    {
     "data": {
      "text/plain": [
       "77"
      ]
     },
     "execution_count": 33,
     "metadata": {},
     "output_type": "execute_result"
    }
   ],
   "source": [
    "lst.pop()"
   ]
  },
  {
   "cell_type": "code",
   "execution_count": 42,
   "id": "186fdf3e",
   "metadata": {},
   "outputs": [],
   "source": [
    "del lst[2:]"
   ]
  },
  {
   "cell_type": "code",
   "execution_count": 39,
   "id": "cbb851a3",
   "metadata": {},
   "outputs": [
    {
     "data": {
      "text/plain": [
       "[]"
      ]
     },
     "execution_count": 39,
     "metadata": {},
     "output_type": "execute_result"
    }
   ],
   "source": [
    "lst"
   ]
  },
  {
   "cell_type": "code",
   "execution_count": 40,
   "id": "70f1c131",
   "metadata": {},
   "outputs": [],
   "source": [
    "del lst[1:]"
   ]
  },
  {
   "cell_type": "code",
   "execution_count": 41,
   "id": "d86bb0a2",
   "metadata": {},
   "outputs": [
    {
     "data": {
      "text/plain": [
       "[]"
      ]
     },
     "execution_count": 41,
     "metadata": {},
     "output_type": "execute_result"
    }
   ],
   "source": [
    "lst"
   ]
  },
  {
   "cell_type": "code",
   "execution_count": 44,
   "id": "3579f937",
   "metadata": {},
   "outputs": [],
   "source": [
    "lst.extend([11,22,33])"
   ]
  },
  {
   "cell_type": "code",
   "execution_count": 45,
   "id": "ede476b7",
   "metadata": {},
   "outputs": [
    {
     "data": {
      "text/plain": [
       "[11, 22, 33]"
      ]
     },
     "execution_count": 45,
     "metadata": {},
     "output_type": "execute_result"
    }
   ],
   "source": [
    "lst"
   ]
  },
  {
   "cell_type": "code",
   "execution_count": 46,
   "id": "f3b878cc",
   "metadata": {},
   "outputs": [
    {
     "data": {
      "text/plain": [
       "11"
      ]
     },
     "execution_count": 46,
     "metadata": {},
     "output_type": "execute_result"
    }
   ],
   "source": [
    "min(lst)"
   ]
  },
  {
   "cell_type": "code",
   "execution_count": 48,
   "id": "c1aae298",
   "metadata": {},
   "outputs": [
    {
     "data": {
      "text/plain": [
       "33"
      ]
     },
     "execution_count": 48,
     "metadata": {},
     "output_type": "execute_result"
    }
   ],
   "source": [
    "max(lst)"
   ]
  },
  {
   "cell_type": "code",
   "execution_count": 49,
   "id": "0f9d81e7",
   "metadata": {},
   "outputs": [
    {
     "data": {
      "text/plain": [
       "66"
      ]
     },
     "execution_count": 49,
     "metadata": {},
     "output_type": "execute_result"
    }
   ],
   "source": [
    "sum(lst)"
   ]
  },
  {
   "cell_type": "code",
   "execution_count": 50,
   "id": "bc41e3c0",
   "metadata": {},
   "outputs": [],
   "source": [
    "lst.sort()"
   ]
  },
  {
   "cell_type": "code",
   "execution_count": 51,
   "id": "a5bfde29",
   "metadata": {},
   "outputs": [
    {
     "data": {
      "text/plain": [
       "[11, 22, 33]"
      ]
     },
     "execution_count": 51,
     "metadata": {},
     "output_type": "execute_result"
    }
   ],
   "source": [
    "lst"
   ]
  },
  {
   "cell_type": "code",
   "execution_count": 53,
   "id": "67f1ed55",
   "metadata": {},
   "outputs": [],
   "source": [
    "tup=(21,22,23,24)"
   ]
  },
  {
   "cell_type": "code",
   "execution_count": 54,
   "id": "fe98ce12",
   "metadata": {},
   "outputs": [
    {
     "data": {
      "text/plain": [
       "(21, 22, 23, 24)"
      ]
     },
     "execution_count": 54,
     "metadata": {},
     "output_type": "execute_result"
    }
   ],
   "source": [
    "tup"
   ]
  },
  {
   "cell_type": "code",
   "execution_count": 55,
   "id": "981b8aa9",
   "metadata": {},
   "outputs": [
    {
     "data": {
      "text/plain": [
       "21"
      ]
     },
     "execution_count": 55,
     "metadata": {},
     "output_type": "execute_result"
    }
   ],
   "source": [
    "tup[0]"
   ]
  },
  {
   "cell_type": "code",
   "execution_count": 60,
   "id": "f7426748",
   "metadata": {},
   "outputs": [
    {
     "data": {
      "text/plain": [
       "0"
      ]
     },
     "execution_count": 60,
     "metadata": {},
     "output_type": "execute_result"
    }
   ],
   "source": [
    "tup.count(1)"
   ]
  },
  {
   "cell_type": "code",
   "execution_count": 63,
   "id": "d45baf3f",
   "metadata": {},
   "outputs": [],
   "source": [
    "se={44,55,22,33}"
   ]
  },
  {
   "cell_type": "code",
   "execution_count": 64,
   "id": "ce812ac0",
   "metadata": {},
   "outputs": [
    {
     "data": {
      "text/plain": [
       "{22, 33, 44, 55}"
      ]
     },
     "execution_count": 64,
     "metadata": {},
     "output_type": "execute_result"
    }
   ],
   "source": [
    "se"
   ]
  },
  {
   "cell_type": "code",
   "execution_count": 65,
   "id": "8c1dab54",
   "metadata": {},
   "outputs": [],
   "source": [
    "s={88,44,55,99,88,11}"
   ]
  },
  {
   "cell_type": "code",
   "execution_count": 66,
   "id": "b663e94e",
   "metadata": {},
   "outputs": [
    {
     "data": {
      "text/plain": [
       "{11, 44, 55, 88, 99}"
      ]
     },
     "execution_count": 66,
     "metadata": {},
     "output_type": "execute_result"
    }
   ],
   "source": [
    "s"
   ]
  },
  {
   "cell_type": "code",
   "execution_count": 67,
   "id": "7d9df977",
   "metadata": {},
   "outputs": [],
   "source": [
    "s.add(5)"
   ]
  },
  {
   "cell_type": "code",
   "execution_count": 68,
   "id": "6ffd7e68",
   "metadata": {},
   "outputs": [
    {
     "data": {
      "text/plain": [
       "{5, 11, 44, 55, 88, 99}"
      ]
     },
     "execution_count": 68,
     "metadata": {},
     "output_type": "execute_result"
    }
   ],
   "source": [
    "s"
   ]
  },
  {
   "cell_type": "code",
   "execution_count": 70,
   "id": "24a4b742",
   "metadata": {},
   "outputs": [],
   "source": [
    "s.clear()"
   ]
  },
  {
   "cell_type": "code",
   "execution_count": 71,
   "id": "b18ef92a",
   "metadata": {},
   "outputs": [
    {
     "data": {
      "text/plain": [
       "set()"
      ]
     },
     "execution_count": 71,
     "metadata": {},
     "output_type": "execute_result"
    }
   ],
   "source": [
    "s"
   ]
  },
  {
   "cell_type": "code",
   "execution_count": 72,
   "id": "853147e4",
   "metadata": {},
   "outputs": [],
   "source": [
    "sample={2:'zoya',1:'anu',3:'allu'}"
   ]
  },
  {
   "cell_type": "code",
   "execution_count": 73,
   "id": "f6d0629f",
   "metadata": {},
   "outputs": [
    {
     "data": {
      "text/plain": [
       "{2: 'zoya', 1: 'anu', 3: 'allu'}"
      ]
     },
     "execution_count": 73,
     "metadata": {},
     "output_type": "execute_result"
    }
   ],
   "source": [
    "sample"
   ]
  },
  {
   "cell_type": "code",
   "execution_count": 74,
   "id": "5e818e2b",
   "metadata": {},
   "outputs": [
    {
     "data": {
      "text/plain": [
       "'zoya'"
      ]
     },
     "execution_count": 74,
     "metadata": {},
     "output_type": "execute_result"
    }
   ],
   "source": [
    "sample[2]"
   ]
  },
  {
   "cell_type": "code",
   "execution_count": 75,
   "id": "64a2fafd",
   "metadata": {},
   "outputs": [
    {
     "data": {
      "text/plain": [
       "'anu'"
      ]
     },
     "execution_count": 75,
     "metadata": {},
     "output_type": "execute_result"
    }
   ],
   "source": [
    "sample.get(1)"
   ]
  },
  {
   "cell_type": "code",
   "execution_count": 76,
   "id": "7728a2f7",
   "metadata": {},
   "outputs": [],
   "source": [
    "sample.get(4)"
   ]
  },
  {
   "cell_type": "code",
   "execution_count": 77,
   "id": "4dde6716",
   "metadata": {},
   "outputs": [
    {
     "data": {
      "text/plain": [
       "'Not Found'"
      ]
     },
     "execution_count": 77,
     "metadata": {},
     "output_type": "execute_result"
    }
   ],
   "source": [
    "sample.get(4,'Not Found')"
   ]
  },
  {
   "cell_type": "code",
   "execution_count": 78,
   "id": "c5701dea",
   "metadata": {},
   "outputs": [],
   "source": [
    "key=['Zoya','laksh','anni']"
   ]
  },
  {
   "cell_type": "code",
   "execution_count": 79,
   "id": "8bda9e3e",
   "metadata": {},
   "outputs": [],
   "source": [
    "values=['python','java','c']"
   ]
  },
  {
   "cell_type": "code",
   "execution_count": 81,
   "id": "b8b63104",
   "metadata": {},
   "outputs": [],
   "source": [
    "sample=dict(zip(key,value))"
   ]
  },
  {
   "cell_type": "code",
   "execution_count": 82,
   "id": "2bd3a788",
   "metadata": {},
   "outputs": [
    {
     "data": {
      "text/plain": [
       "{'Zoya': 22, 'laksh': 'zoya', 'anni': 2.3}"
      ]
     },
     "execution_count": 82,
     "metadata": {},
     "output_type": "execute_result"
    }
   ],
   "source": [
    "sample"
   ]
  },
  {
   "cell_type": "code",
   "execution_count": 83,
   "id": "23b89105",
   "metadata": {},
   "outputs": [],
   "source": [
    "sample['moana']='js'"
   ]
  },
  {
   "cell_type": "code",
   "execution_count": 84,
   "id": "cb1e8559",
   "metadata": {},
   "outputs": [
    {
     "data": {
      "text/plain": [
       "{'Zoya': 22, 'laksh': 'zoya', 'anni': 2.3, 'moana': 'js'}"
      ]
     },
     "execution_count": 84,
     "metadata": {},
     "output_type": "execute_result"
    }
   ],
   "source": [
    "sample"
   ]
  },
  {
   "cell_type": "code",
   "execution_count": 85,
   "id": "156eb655",
   "metadata": {},
   "outputs": [],
   "source": [
    "del sample['moana']"
   ]
  },
  {
   "cell_type": "code",
   "execution_count": 86,
   "id": "57da3e36",
   "metadata": {},
   "outputs": [
    {
     "data": {
      "text/plain": [
       "{'Zoya': 22, 'laksh': 'zoya', 'anni': 2.3}"
      ]
     },
     "execution_count": 86,
     "metadata": {},
     "output_type": "execute_result"
    }
   ],
   "source": [
    "sample"
   ]
  },
  {
   "cell_type": "code",
   "execution_count": 87,
   "id": "c0d812f8",
   "metadata": {},
   "outputs": [],
   "source": [
    "prog={'js':'Atom','cs':'vs','python':['pycharm','sublime'],'java':['netbeans','jee']}"
   ]
  },
  {
   "cell_type": "code",
   "execution_count": 89,
   "id": "9857867b",
   "metadata": {},
   "outputs": [
    {
     "data": {
      "text/plain": [
       "['netbeans', 'jee']"
      ]
     },
     "execution_count": 89,
     "metadata": {},
     "output_type": "execute_result"
    }
   ],
   "source": [
    "prog['java']"
   ]
  },
  {
   "cell_type": "code",
   "execution_count": 2,
   "id": "9d1a9002",
   "metadata": {},
   "outputs": [
    {
     "name": "stdout",
     "output_type": "stream",
     "text": [
      "I'm A Student\n"
     ]
    }
   ],
   "source": [
    "if True:\n",
    "    print(\"I'm A Student\")"
   ]
  },
  {
   "cell_type": "code",
   "execution_count": 3,
   "id": "0519aa5e",
   "metadata": {},
   "outputs": [
    {
     "name": "stdout",
     "output_type": "stream",
     "text": [
      "Bye\n"
     ]
    }
   ],
   "source": [
    "if False:\n",
    "    print(\"I'm Tired\")\n",
    "print(\"Bye\")"
   ]
  },
  {
   "cell_type": "code",
   "execution_count": 6,
   "id": "ef686184",
   "metadata": {},
   "outputs": [
    {
     "name": "stdout",
     "output_type": "stream",
     "text": [
      "Even\n"
     ]
    }
   ],
   "source": [
    "a=8\n",
    "if(a%2==0):\n",
    "    print(\"Even\")\n",
    "else:\n",
    "    print(\"odd\")"
   ]
  },
  {
   "cell_type": "code",
   "execution_count": 9,
   "id": "f4700d5b",
   "metadata": {},
   "outputs": [
    {
     "name": "stdout",
     "output_type": "stream",
     "text": [
      "odd\n"
     ]
    }
   ],
   "source": [
    "a=1\n",
    "b=a%2\n",
    "if(b==0):\n",
    "    print(\"Even\")\n",
    "if(b==1):\n",
    "    print(\"odd\")"
   ]
  },
  {
   "cell_type": "code",
   "execution_count": 11,
   "id": "4ef27308",
   "metadata": {},
   "outputs": [
    {
     "name": "stdout",
     "output_type": "stream",
     "text": [
      "odd\n"
     ]
    }
   ],
   "source": [
    "a=5\n",
    "if(a%2==0):\n",
    "    print(\"Even\")\n",
    "    if(a>5):\n",
    "        print(\"Great\")\n",
    "    else:\n",
    "        print(\"Not great\")\n",
    "else:\n",
    "    print(\"odd\")"
   ]
  },
  {
   "cell_type": "code",
   "execution_count": 14,
   "id": "ef5c7b05",
   "metadata": {},
   "outputs": [
    {
     "name": "stdout",
     "output_type": "stream",
     "text": [
      "Enter the number3\n",
      "Three\n"
     ]
    }
   ],
   "source": [
    "a=int(input(\"Enter the number\"))\n",
    "if(a==1):\n",
    "    print(\"One\")\n",
    "if(a==2):\n",
    "    print(\"Two\")\n",
    "if(a==3):\n",
    "    print(\"Three\")"
   ]
  },
  {
   "cell_type": "code",
   "execution_count": 13,
   "id": "d51c2d8e",
   "metadata": {},
   "outputs": [
    {
     "name": "stdout",
     "output_type": "stream",
     "text": [
      "Enter the number3\n",
      "Three\n"
     ]
    }
   ],
   "source": [
    "a=int(input(\"Enter the number\"))\n",
    "if(a==1):\n",
    "    print(\"One\")\n",
    "elif(a==2):\n",
    "    print(\"Two\")\n",
    "elif(a==3):\n",
    "    print(\"Three\")"
   ]
  },
  {
   "cell_type": "code",
   "execution_count": 16,
   "id": "8374e58f",
   "metadata": {},
   "outputs": [
    {
     "name": "stdout",
     "output_type": "stream",
     "text": [
      "Enter the number5\n",
      "it's a positive number\n"
     ]
    }
   ],
   "source": [
    "a=int(input(\"Enter the number\"))\n",
    "if(a<0):\n",
    "    print(\"It's a negative number\")\n",
    "else:\n",
    "    print(\"it's a positive number\")"
   ]
  },
  {
   "cell_type": "code",
   "execution_count": 2,
   "id": "7c35f43e",
   "metadata": {},
   "outputs": [
    {
     "name": "stdout",
     "output_type": "stream",
     "text": [
      "Enter the first number5\n",
      "Enter the second number8\n",
      "Enter the third number7\n",
      "B is greatest\n"
     ]
    }
   ],
   "source": [
    "a=int(input(\"Enter the first number\"))\n",
    "b=int(input(\"Enter the second number\"))\n",
    "c=int(input(\"Enter the third number\"))\n",
    "if(a>b and a>c):\n",
    "    print(\"A is greatest\")\n",
    "elif(b>a and b>c):\n",
    "    print(\"B is greatest\")\n",
    "else:\n",
    "    print(\"C is greatest\")"
   ]
  },
  {
   "cell_type": "code",
   "execution_count": 21,
   "id": "07373c33",
   "metadata": {},
   "outputs": [
    {
     "name": "stdout",
     "output_type": "stream",
     "text": [
      "Zoya\n",
      "Zoya\n"
     ]
    }
   ],
   "source": [
    "print(\"Zoya\")\n",
    "print(\"Zoya\")\n"
   ]
  },
  {
   "cell_type": "code",
   "execution_count": 31,
   "id": "247de2df",
   "metadata": {},
   "outputs": [
    {
     "name": "stdout",
     "output_type": "stream",
     "text": [
      "Zoya 1\n",
      "Zoya 2\n",
      "Zoya 3\n",
      "Zoya 4\n",
      "Zoya 5\n",
      "Zoya 6\n"
     ]
    }
   ],
   "source": [
    "i=1\n",
    "while(i<=6):\n",
    "    print(\"Zoya\",i)\n",
    "    i=i+1"
   ]
  },
  {
   "cell_type": "code",
   "execution_count": 4,
   "id": "8a7eb3b7",
   "metadata": {},
   "outputs": [
    {
     "name": "stdout",
     "output_type": "stream",
     "text": [
      "TataTitanTitanTitanTitan\n",
      "TataTitanTitanTitanTitan\n",
      "TataTitanTitanTitanTitan\n",
      "TataTitanTitanTitanTitan\n",
      "TataTitanTitanTitanTitan\n"
     ]
    }
   ],
   "source": [
    "i=1\n",
    "\n",
    "while(i<=5):\n",
    "    print(\"Tata\",end=\"\")\n",
    "    j=1\n",
    "    while(j<=4):\n",
    "        print(\"Titan\",end=\"\")\n",
    "        j=j+1\n",
    "    i=i+1\n",
    "    print()"
   ]
  },
  {
   "cell_type": "code",
   "execution_count": 2,
   "id": "c117d356",
   "metadata": {
    "scrolled": true
   },
   "outputs": [
    {
     "name": "stdout",
     "output_type": "stream",
     "text": [
      "1\n",
      "2\n",
      "3\n",
      "4\n",
      "5\n",
      "6\n",
      "7\n",
      "8\n",
      "9\n",
      "10\n",
      "11\n",
      "12\n",
      "13\n",
      "14\n",
      "15\n",
      "16\n",
      "17\n",
      "18\n",
      "19\n",
      "20\n",
      "21\n",
      "22\n",
      "23\n",
      "24\n",
      "25\n",
      "26\n",
      "27\n",
      "28\n",
      "29\n",
      "30\n",
      "31\n",
      "32\n",
      "33\n",
      "34\n",
      "35\n",
      "36\n",
      "37\n",
      "38\n",
      "39\n",
      "40\n",
      "41\n",
      "42\n",
      "43\n",
      "44\n",
      "45\n",
      "46\n",
      "47\n",
      "48\n",
      "49\n",
      "50\n",
      "51\n",
      "52\n",
      "53\n",
      "54\n",
      "55\n",
      "56\n",
      "57\n",
      "58\n",
      "59\n",
      "60\n",
      "61\n",
      "62\n",
      "63\n",
      "64\n",
      "65\n",
      "66\n",
      "67\n",
      "68\n",
      "69\n",
      "70\n",
      "71\n",
      "72\n",
      "73\n",
      "74\n",
      "75\n",
      "76\n",
      "77\n",
      "78\n",
      "79\n",
      "80\n",
      "81\n",
      "82\n",
      "83\n",
      "84\n",
      "85\n",
      "86\n",
      "87\n",
      "88\n",
      "89\n",
      "90\n",
      "91\n",
      "92\n",
      "93\n",
      "94\n",
      "95\n",
      "96\n",
      "97\n",
      "98\n",
      "99\n",
      "100\n"
     ]
    }
   ],
   "source": [
    "a=1\n",
    "while(a<101):\n",
    "    print(a)\n",
    "    a=a+1"
   ]
  },
  {
   "cell_type": "code",
   "execution_count": null,
   "id": "5c5032b9",
   "metadata": {},
   "outputs": [],
   "source": [
    "a=1\n",
    "while(a<100):\n",
    "     print(a)\n",
    "    if(a%3==0 & a%5==0):\n",
    "        break;\n",
    "    else:\n",
    "        continue;\n",
    "    \n",
    "   \n",
    "    a=a+1\n",
    "    "
   ]
  },
  {
   "cell_type": "code",
   "execution_count": 3,
   "id": "9fd2af4a",
   "metadata": {},
   "outputs": [
    {
     "name": "stdout",
     "output_type": "stream",
     "text": [
      "Zoya\n",
      "2\n",
      "2.3\n"
     ]
    }
   ],
   "source": [
    "a=[\"Zoya\",2,2.3]\n",
    "for i in a:\n",
    "    print(i)"
   ]
  },
  {
   "cell_type": "code",
   "execution_count": 2,
   "id": "7d10ace5",
   "metadata": {},
   "outputs": [
    {
     "data": {
      "text/plain": [
       "['Zoya', 2, 2.3]"
      ]
     },
     "execution_count": 2,
     "metadata": {},
     "output_type": "execute_result"
    }
   ],
   "source": [
    "a"
   ]
  },
  {
   "cell_type": "code",
   "execution_count": 4,
   "id": "57a35dae",
   "metadata": {},
   "outputs": [
    {
     "name": "stdout",
     "output_type": "stream",
     "text": [
      "Z\n",
      "O\n",
      "Y\n",
      "A\n"
     ]
    }
   ],
   "source": [
    "a=\"ZOYA\"\n",
    "for i in a:\n",
    "    print(i)"
   ]
  },
  {
   "cell_type": "code",
   "execution_count": 5,
   "id": "42e868ac",
   "metadata": {},
   "outputs": [
    {
     "name": "stdout",
     "output_type": "stream",
     "text": [
      "2\n",
      "9\n",
      "0\n",
      "7\n"
     ]
    }
   ],
   "source": [
    "for i in [2,9,0,7]:\n",
    "    print(i)"
   ]
  },
  {
   "cell_type": "code",
   "execution_count": 8,
   "id": "561968c2",
   "metadata": {},
   "outputs": [
    {
     "name": "stdout",
     "output_type": "stream",
     "text": [
      "0\n",
      "1\n",
      "2\n",
      "3\n",
      "4\n",
      "5\n",
      "6\n",
      "7\n",
      "8\n",
      "9\n"
     ]
    }
   ],
   "source": [
    "for i in range(10):\n",
    "    print(i)"
   ]
  },
  {
   "cell_type": "code",
   "execution_count": 9,
   "id": "a2f29073",
   "metadata": {},
   "outputs": [
    {
     "name": "stdout",
     "output_type": "stream",
     "text": [
      "0\n",
      "2\n",
      "4\n",
      "6\n",
      "8\n"
     ]
    }
   ],
   "source": [
    "for i in range(0,10,2):\n",
    "    print(i)"
   ]
  },
  {
   "cell_type": "code",
   "execution_count": 10,
   "id": "51f13606",
   "metadata": {},
   "outputs": [
    {
     "name": "stdout",
     "output_type": "stream",
     "text": [
      "20\n",
      "18\n",
      "16\n",
      "14\n",
      "12\n"
     ]
    }
   ],
   "source": [
    "for i in range(20,10,-2):\n",
    "    print(i)"
   ]
  },
  {
   "cell_type": "code",
   "execution_count": 11,
   "id": "824ceb20",
   "metadata": {},
   "outputs": [
    {
     "name": "stdout",
     "output_type": "stream",
     "text": [
      "1\n",
      "2\n",
      "3\n",
      "4\n",
      "6\n",
      "7\n",
      "8\n",
      "9\n",
      "11\n",
      "12\n",
      "13\n",
      "14\n",
      "16\n",
      "17\n",
      "18\n",
      "19\n"
     ]
    }
   ],
   "source": [
    "for i in range(1,21):\n",
    "    if(i%5!=0):\n",
    "        print(i)"
   ]
  },
  {
   "cell_type": "code",
   "execution_count": 13,
   "id": "e49a7cb7",
   "metadata": {},
   "outputs": [
    {
     "name": "stdout",
     "output_type": "stream",
     "text": [
      "1\n",
      "4\n",
      "9\n",
      "16\n",
      "25\n",
      "36\n",
      "49\n",
      "64\n",
      "81\n",
      "100\n",
      "121\n",
      "144\n",
      "169\n",
      "196\n",
      "225\n",
      "256\n",
      "289\n",
      "324\n",
      "361\n",
      "400\n",
      "441\n",
      "484\n",
      "529\n",
      "576\n",
      "625\n",
      "676\n",
      "729\n",
      "784\n",
      "841\n",
      "900\n",
      "961\n",
      "1024\n",
      "1089\n",
      "1156\n",
      "1225\n",
      "1296\n",
      "1369\n",
      "1444\n",
      "1521\n",
      "1600\n",
      "1681\n",
      "1764\n",
      "1849\n",
      "1936\n",
      "2025\n",
      "2116\n",
      "2209\n",
      "2304\n",
      "2401\n",
      "2500\n",
      "2601\n",
      "2704\n",
      "2809\n",
      "2916\n",
      "3025\n",
      "3136\n",
      "3249\n",
      "3364\n",
      "3481\n",
      "3600\n",
      "3721\n",
      "3844\n",
      "3969\n",
      "4096\n",
      "4225\n",
      "4356\n",
      "4489\n",
      "4624\n",
      "4761\n",
      "4900\n",
      "5041\n",
      "5184\n",
      "5329\n",
      "5476\n",
      "5625\n",
      "5776\n",
      "5929\n",
      "6084\n",
      "6241\n",
      "6400\n",
      "6561\n",
      "6724\n",
      "6889\n",
      "7056\n",
      "7225\n",
      "7396\n",
      "7569\n",
      "7744\n",
      "7921\n",
      "8100\n",
      "8281\n",
      "8464\n",
      "8649\n",
      "8836\n",
      "9025\n",
      "9216\n",
      "9409\n",
      "9604\n",
      "9801\n",
      "10000\n",
      "10201\n",
      "10404\n",
      "10609\n",
      "10816\n",
      "11025\n",
      "11236\n",
      "11449\n",
      "11664\n",
      "11881\n",
      "12100\n",
      "12321\n",
      "12544\n",
      "12769\n",
      "12996\n",
      "13225\n",
      "13456\n",
      "13689\n",
      "13924\n",
      "14161\n",
      "14400\n",
      "14641\n",
      "14884\n",
      "15129\n",
      "15376\n",
      "15625\n",
      "15876\n",
      "16129\n",
      "16384\n",
      "16641\n",
      "16900\n",
      "17161\n",
      "17424\n",
      "17689\n",
      "17956\n",
      "18225\n",
      "18496\n",
      "18769\n",
      "19044\n",
      "19321\n",
      "19600\n",
      "19881\n",
      "20164\n",
      "20449\n",
      "20736\n",
      "21025\n",
      "21316\n",
      "21609\n",
      "21904\n",
      "22201\n",
      "22500\n",
      "22801\n",
      "23104\n",
      "23409\n",
      "23716\n",
      "24025\n",
      "24336\n",
      "24649\n",
      "24964\n",
      "25281\n",
      "25600\n",
      "25921\n",
      "26244\n",
      "26569\n",
      "26896\n",
      "27225\n",
      "27556\n",
      "27889\n",
      "28224\n",
      "28561\n",
      "28900\n",
      "29241\n",
      "29584\n",
      "29929\n",
      "30276\n",
      "30625\n",
      "30976\n",
      "31329\n",
      "31684\n",
      "32041\n",
      "32400\n",
      "32761\n",
      "33124\n",
      "33489\n",
      "33856\n",
      "34225\n",
      "34596\n",
      "34969\n",
      "35344\n",
      "35721\n",
      "36100\n",
      "36481\n",
      "36864\n",
      "37249\n",
      "37636\n",
      "38025\n",
      "38416\n",
      "38809\n",
      "39204\n",
      "39601\n",
      "40000\n",
      "40401\n",
      "40804\n",
      "41209\n",
      "41616\n",
      "42025\n",
      "42436\n",
      "42849\n",
      "43264\n",
      "43681\n",
      "44100\n",
      "44521\n",
      "44944\n",
      "45369\n",
      "45796\n",
      "46225\n",
      "46656\n",
      "47089\n",
      "47524\n",
      "47961\n",
      "48400\n",
      "48841\n",
      "49284\n",
      "49729\n",
      "50176\n",
      "50625\n",
      "51076\n",
      "51529\n",
      "51984\n",
      "52441\n",
      "52900\n",
      "53361\n",
      "53824\n",
      "54289\n",
      "54756\n",
      "55225\n",
      "55696\n",
      "56169\n",
      "56644\n",
      "57121\n",
      "57600\n",
      "58081\n",
      "58564\n",
      "59049\n",
      "59536\n",
      "60025\n",
      "60516\n",
      "61009\n",
      "61504\n",
      "62001\n",
      "62500\n",
      "63001\n",
      "63504\n",
      "64009\n",
      "64516\n",
      "65025\n",
      "65536\n",
      "66049\n",
      "66564\n",
      "67081\n",
      "67600\n",
      "68121\n",
      "68644\n",
      "69169\n",
      "69696\n",
      "70225\n",
      "70756\n",
      "71289\n",
      "71824\n",
      "72361\n",
      "72900\n",
      "73441\n",
      "73984\n",
      "74529\n",
      "75076\n",
      "75625\n",
      "76176\n",
      "76729\n",
      "77284\n",
      "77841\n",
      "78400\n",
      "78961\n",
      "79524\n",
      "80089\n",
      "80656\n",
      "81225\n",
      "81796\n",
      "82369\n",
      "82944\n",
      "83521\n",
      "84100\n",
      "84681\n",
      "85264\n",
      "85849\n",
      "86436\n",
      "87025\n",
      "87616\n",
      "88209\n",
      "88804\n",
      "89401\n",
      "90000\n",
      "90601\n",
      "91204\n",
      "91809\n",
      "92416\n",
      "93025\n",
      "93636\n",
      "94249\n",
      "94864\n",
      "95481\n",
      "96100\n",
      "96721\n",
      "97344\n",
      "97969\n",
      "98596\n",
      "99225\n",
      "99856\n",
      "100489\n",
      "101124\n",
      "101761\n",
      "102400\n",
      "103041\n",
      "103684\n",
      "104329\n",
      "104976\n",
      "105625\n",
      "106276\n",
      "106929\n",
      "107584\n",
      "108241\n",
      "108900\n",
      "109561\n",
      "110224\n",
      "110889\n",
      "111556\n",
      "112225\n",
      "112896\n",
      "113569\n",
      "114244\n",
      "114921\n",
      "115600\n",
      "116281\n",
      "116964\n",
      "117649\n",
      "118336\n",
      "119025\n",
      "119716\n",
      "120409\n",
      "121104\n",
      "121801\n",
      "122500\n",
      "123201\n",
      "123904\n",
      "124609\n",
      "125316\n",
      "126025\n",
      "126736\n",
      "127449\n",
      "128164\n",
      "128881\n",
      "129600\n",
      "130321\n",
      "131044\n",
      "131769\n",
      "132496\n",
      "133225\n",
      "133956\n",
      "134689\n",
      "135424\n",
      "136161\n",
      "136900\n",
      "137641\n",
      "138384\n",
      "139129\n",
      "139876\n",
      "140625\n",
      "141376\n",
      "142129\n",
      "142884\n",
      "143641\n",
      "144400\n",
      "145161\n",
      "145924\n",
      "146689\n",
      "147456\n",
      "148225\n",
      "148996\n",
      "149769\n",
      "150544\n",
      "151321\n",
      "152100\n",
      "152881\n",
      "153664\n",
      "154449\n",
      "155236\n",
      "156025\n",
      "156816\n",
      "157609\n",
      "158404\n",
      "159201\n",
      "160000\n",
      "160801\n",
      "161604\n",
      "162409\n",
      "163216\n",
      "164025\n",
      "164836\n",
      "165649\n",
      "166464\n",
      "167281\n",
      "168100\n",
      "168921\n",
      "169744\n",
      "170569\n",
      "171396\n",
      "172225\n",
      "173056\n",
      "173889\n",
      "174724\n",
      "175561\n",
      "176400\n",
      "177241\n",
      "178084\n",
      "178929\n",
      "179776\n",
      "180625\n",
      "181476\n",
      "182329\n",
      "183184\n",
      "184041\n",
      "184900\n",
      "185761\n",
      "186624\n",
      "187489\n",
      "188356\n",
      "189225\n",
      "190096\n",
      "190969\n",
      "191844\n",
      "192721\n",
      "193600\n",
      "194481\n",
      "195364\n",
      "196249\n",
      "197136\n",
      "198025\n",
      "198916\n",
      "199809\n",
      "200704\n",
      "201601\n",
      "202500\n",
      "203401\n",
      "204304\n",
      "205209\n",
      "206116\n",
      "207025\n",
      "207936\n",
      "208849\n",
      "209764\n",
      "210681\n",
      "211600\n",
      "212521\n",
      "213444\n",
      "214369\n",
      "215296\n",
      "216225\n",
      "217156\n",
      "218089\n",
      "219024\n",
      "219961\n",
      "220900\n",
      "221841\n",
      "222784\n",
      "223729\n",
      "224676\n",
      "225625\n",
      "226576\n",
      "227529\n",
      "228484\n",
      "229441\n",
      "230400\n",
      "231361\n",
      "232324\n",
      "233289\n",
      "234256\n",
      "235225\n",
      "236196\n",
      "237169\n",
      "238144\n",
      "239121\n",
      "240100\n",
      "241081\n",
      "242064\n",
      "243049\n",
      "244036\n",
      "245025\n",
      "246016\n",
      "247009\n",
      "248004\n",
      "249001\n"
     ]
    }
   ],
   "source": [
    "for i in range(1,500):\n",
    "    print(pow(i,2))"
   ]
  },
  {
   "cell_type": "code",
   "execution_count": 6,
   "id": "184c1d96",
   "metadata": {},
   "outputs": [
    {
     "name": "stdout",
     "output_type": "stream",
     "text": [
      "How many candies you want7\n",
      "Candy\n",
      "Candy\n",
      "Candy\n",
      "Candy\n",
      "Candy\n",
      "out of stock\n",
      "Sorry\n"
     ]
    }
   ],
   "source": [
    "av=5\n",
    "a=int(input(\"How many candies you want\"))\n",
    "i=1\n",
    "while i<=a:\n",
    "    if i>av:\n",
    "        print(\"out of stock\")\n",
    "        break;\n",
    "    print(\"Candy\")\n",
    "    i+=1\n",
    "print(\"Sorry\")"
   ]
  },
  {
   "cell_type": "code",
   "execution_count": 8,
   "id": "b5ac604c",
   "metadata": {},
   "outputs": [
    {
     "name": "stdout",
     "output_type": "stream",
     "text": [
      "1\n",
      "2\n",
      "4\n",
      "7\n",
      "8\n",
      "11\n",
      "13\n",
      "14\n",
      "16\n",
      "17\n",
      "19\n",
      "22\n",
      "23\n",
      "26\n",
      "28\n",
      "29\n",
      "31\n",
      "32\n",
      "34\n",
      "37\n",
      "38\n",
      "41\n",
      "43\n",
      "44\n",
      "46\n",
      "47\n",
      "49\n",
      "52\n",
      "53\n",
      "56\n",
      "58\n",
      "59\n",
      "61\n",
      "62\n",
      "64\n",
      "67\n",
      "68\n",
      "71\n",
      "73\n",
      "74\n",
      "76\n",
      "77\n",
      "79\n",
      "82\n",
      "83\n",
      "86\n",
      "88\n",
      "89\n",
      "91\n",
      "92\n",
      "94\n",
      "97\n",
      "98\n"
     ]
    }
   ],
   "source": [
    "for i in range(1,101):\n",
    "    if i%3==0 or i%5==0:\n",
    "        continue\n",
    "    print(i)\n"
   ]
  },
  {
   "cell_type": "code",
   "execution_count": 9,
   "id": "52dd7cee",
   "metadata": {},
   "outputs": [
    {
     "name": "stdout",
     "output_type": "stream",
     "text": [
      "1\n",
      "2\n",
      "3\n",
      "4\n",
      "5\n",
      "6\n",
      "7\n",
      "8\n",
      "9\n",
      "10\n",
      "11\n",
      "12\n",
      "13\n",
      "14\n",
      "16\n",
      "17\n",
      "18\n",
      "19\n",
      "20\n",
      "21\n",
      "22\n",
      "23\n",
      "24\n",
      "25\n",
      "26\n",
      "27\n",
      "28\n",
      "29\n",
      "31\n",
      "32\n",
      "33\n",
      "34\n",
      "35\n",
      "36\n",
      "37\n",
      "38\n",
      "39\n",
      "40\n",
      "41\n",
      "42\n",
      "43\n",
      "44\n",
      "46\n",
      "47\n",
      "48\n",
      "49\n",
      "50\n",
      "51\n",
      "52\n",
      "53\n",
      "54\n",
      "55\n",
      "56\n",
      "57\n",
      "58\n",
      "59\n",
      "61\n",
      "62\n",
      "63\n",
      "64\n",
      "65\n",
      "66\n",
      "67\n",
      "68\n",
      "69\n",
      "70\n",
      "71\n",
      "72\n",
      "73\n",
      "74\n",
      "76\n",
      "77\n",
      "78\n",
      "79\n",
      "80\n",
      "81\n",
      "82\n",
      "83\n",
      "84\n",
      "85\n",
      "86\n",
      "87\n",
      "88\n",
      "89\n",
      "91\n",
      "92\n",
      "93\n",
      "94\n",
      "95\n",
      "96\n",
      "97\n",
      "98\n",
      "99\n",
      "100\n"
     ]
    }
   ],
   "source": [
    "for i in range(1,101):\n",
    "    if i%3==0 and i%5==0:\n",
    "        continue\n",
    "    print(i)\n"
   ]
  },
  {
   "cell_type": "code",
   "execution_count": 10,
   "id": "5478c871",
   "metadata": {},
   "outputs": [
    {
     "name": "stdout",
     "output_type": "stream",
     "text": [
      "2\n",
      "4\n",
      "6\n",
      "8\n",
      "10\n",
      "12\n",
      "14\n",
      "16\n",
      "18\n",
      "20\n",
      "22\n",
      "24\n",
      "26\n",
      "28\n",
      "30\n",
      "32\n",
      "34\n",
      "36\n",
      "38\n",
      "40\n",
      "42\n",
      "44\n",
      "46\n",
      "48\n",
      "50\n",
      "52\n",
      "54\n",
      "56\n",
      "58\n",
      "60\n",
      "62\n",
      "64\n",
      "66\n",
      "68\n",
      "70\n",
      "72\n",
      "74\n",
      "76\n",
      "78\n",
      "80\n",
      "82\n",
      "84\n",
      "86\n",
      "88\n",
      "90\n",
      "92\n",
      "94\n",
      "96\n",
      "98\n",
      "100\n"
     ]
    }
   ],
   "source": [
    "for i in range(1,101):\n",
    "    if i%2!=0:\n",
    "        pass\n",
    "    else:\n",
    "        print(i)"
   ]
  },
  {
   "cell_type": "code",
   "execution_count": 11,
   "id": "c85e1063",
   "metadata": {},
   "outputs": [
    {
     "name": "stdout",
     "output_type": "stream",
     "text": [
      "Enter a number7\n",
      "Prime number\n"
     ]
    }
   ],
   "source": [
    "a=int(input(\"Enter a number\"))\n",
    "if(a%2==0):\n",
    "    print(\"Not a prime number\")\n",
    "else:\n",
    "    print(\"Prime number\")"
   ]
  },
  {
   "cell_type": "code",
   "execution_count": 12,
   "id": "03abf34e",
   "metadata": {},
   "outputs": [
    {
     "data": {
      "text/plain": [
       "array('i', [5, 9, 7])"
      ]
     },
     "execution_count": 12,
     "metadata": {},
     "output_type": "execute_result"
    }
   ],
   "source": [
    "import array as arr\n",
    "arr.array('i',[5,9,7])"
   ]
  },
  {
   "cell_type": "code",
   "execution_count": 16,
   "id": "68aac91c",
   "metadata": {},
   "outputs": [
    {
     "name": "stdout",
     "output_type": "stream",
     "text": [
      "array('i', [5, 7, 9])\n"
     ]
    }
   ],
   "source": [
    "from array import *\n",
    "value=array('i',[5,7,9])\n",
    "print(value)"
   ]
  },
  {
   "cell_type": "code",
   "execution_count": 18,
   "id": "d576efa6",
   "metadata": {},
   "outputs": [
    {
     "name": "stdout",
     "output_type": "stream",
     "text": [
      "i\n"
     ]
    }
   ],
   "source": [
    "from array import *\n",
    "value=array('i',[5,7,9])\n",
    "print(value.typecode)"
   ]
  },
  {
   "cell_type": "code",
   "execution_count": 21,
   "id": "a2f203a3",
   "metadata": {},
   "outputs": [
    {
     "name": "stdout",
     "output_type": "stream",
     "text": [
      "array('i', [9, 7, 5])\n"
     ]
    }
   ],
   "source": [
    "from array import *\n",
    "value=array('i',[5,7,9])\n",
    "value.reverse()\n",
    "print(value)"
   ]
  },
  {
   "cell_type": "code",
   "execution_count": 24,
   "id": "641a9ecd",
   "metadata": {},
   "outputs": [
    {
     "name": "stdout",
     "output_type": "stream",
     "text": [
      "5\n",
      "7\n",
      "9\n"
     ]
    }
   ],
   "source": [
    "from array import *\n",
    "value=array('i',[5,7,9])\n",
    "for i in range(3):\n",
    "    print(value[i])"
   ]
  },
  {
   "cell_type": "code",
   "execution_count": 27,
   "id": "8c661536",
   "metadata": {},
   "outputs": [
    {
     "name": "stdout",
     "output_type": "stream",
     "text": [
      "5\n",
      "7\n",
      "9\n",
      "8\n",
      "6\n"
     ]
    }
   ],
   "source": [
    "from array import *\n",
    "value=array('i',[5,7,9,8,6])\n",
    "for e in value:\n",
    "    print(e)"
   ]
  },
  {
   "cell_type": "code",
   "execution_count": 29,
   "id": "710aeb25",
   "metadata": {},
   "outputs": [
    {
     "name": "stdout",
     "output_type": "stream",
     "text": [
      "array('u', 'aib')\n"
     ]
    }
   ],
   "source": [
    "from array import *\n",
    "value=array('u',['a','i','b'])\n",
    "print(value)"
   ]
  },
  {
   "cell_type": "code",
   "execution_count": 31,
   "id": "2ad04d14",
   "metadata": {},
   "outputs": [
    {
     "name": "stdout",
     "output_type": "stream",
     "text": [
      "25\n",
      "49\n",
      "81\n"
     ]
    }
   ],
   "source": [
    "from array import *\n",
    "value=array('i',[5,7,9])\n",
    "new=array(value.typecode,(a*a for a in value))\n",
    "for e in new:\n",
    "    print(e)\n",
    "    \n"
   ]
  },
  {
   "cell_type": "code",
   "execution_count": 32,
   "id": "788a5902",
   "metadata": {},
   "outputs": [
    {
     "name": "stdout",
     "output_type": "stream",
     "text": [
      "25\n",
      "49\n",
      "81\n"
     ]
    }
   ],
   "source": [
    "from array import *\n",
    "value=array('i',[5,7,9])\n",
    "new=array(value.typecode,(a*a for a in value))\n",
    "i=0\n",
    "while i<len(new):\n",
    "    print(new[i])\n",
    "    i+=1"
   ]
  },
  {
   "cell_type": "code",
   "execution_count": 33,
   "id": "0cd6df95",
   "metadata": {},
   "outputs": [
    {
     "name": "stdout",
     "output_type": "stream",
     "text": [
      "Hello 0\n",
      "Hello 1\n",
      "Hello 2\n",
      "Hello 4\n"
     ]
    }
   ],
   "source": [
    "for i in range(5):\n",
    "    if i==3:\n",
    "        continue\n",
    "    print(\"Hello\",i)"
   ]
  },
  {
   "cell_type": "code",
   "execution_count": 34,
   "id": "204357e3",
   "metadata": {},
   "outputs": [
    {
     "name": "stdout",
     "output_type": "stream",
     "text": [
      "Hello 0\n",
      "Hello 1\n",
      "Hello 2\n"
     ]
    }
   ],
   "source": [
    "for i in range(5):\n",
    "    if i==3:\n",
    "        break\n",
    "    print(\"Hello\",i)"
   ]
  },
  {
   "cell_type": "code",
   "execution_count": 36,
   "id": "733f8dcc",
   "metadata": {},
   "outputs": [
    {
     "name": "stdout",
     "output_type": "stream",
     "text": [
      "Hello 0\n",
      "Hello 1\n",
      "Hello 2\n",
      "Hello 3\n",
      "Hello 4\n"
     ]
    }
   ],
   "source": [
    "for i in range(5):\n",
    "    if i==3:\n",
    "        pass\n",
    "    print(\"Hello\",i)"
   ]
  },
  {
   "cell_type": "code",
   "execution_count": 41,
   "id": "e560792a",
   "metadata": {},
   "outputs": [
    {
     "name": "stdout",
     "output_type": "stream",
     "text": [
      "# # # # # \n",
      "# # # # # \n",
      "# # # # # \n",
      "# # # # # \n"
     ]
    }
   ],
   "source": [
    "for i in range(4):    \n",
    "    for j in range (5):\n",
    "        print(\"# \",end=\"\")\n",
    "    print( )"
   ]
  },
  {
   "cell_type": "code",
   "execution_count": 44,
   "id": "c5e9dc3f",
   "metadata": {},
   "outputs": [
    {
     "name": "stdout",
     "output_type": "stream",
     "text": [
      "# \n",
      "# # \n",
      "# # # \n",
      "# # # # \n"
     ]
    }
   ],
   "source": [
    "for i in range(4):    \n",
    "    for j in range (i+1):\n",
    "        print(\"# \",end=\"\")\n",
    "    print( )"
   ]
  },
  {
   "cell_type": "code",
   "execution_count": 46,
   "id": "d22a94f2",
   "metadata": {},
   "outputs": [
    {
     "name": "stdout",
     "output_type": "stream",
     "text": [
      "# # # # \n",
      "# # # \n",
      "# # \n",
      "# \n"
     ]
    }
   ],
   "source": [
    "for i in range(4):    \n",
    "    for j in range (4-i):\n",
    "        print(\"# \",end=\"\")\n",
    "    print( )"
   ]
  },
  {
   "cell_type": "code",
   "execution_count": 50,
   "id": "f34e8353",
   "metadata": {},
   "outputs": [
    {
     "name": "stdout",
     "output_type": "stream",
     "text": [
      "\n",
      "1 2 3 4 \n",
      "1 2 3 4 1 2 3 4 \n",
      "1 2 3 4 1 2 3 4 1 2 3 4 \n"
     ]
    }
   ],
   "source": [
    "for i in range(4):    \n",
    "    for j in range (0,i):\n",
    "        print(\"1 2 3 4 \",end=\"\")\n",
    "    print( )"
   ]
  },
  {
   "cell_type": "code",
   "execution_count": 53,
   "id": "3eb6a52a",
   "metadata": {},
   "outputs": [
    {
     "name": "stdout",
     "output_type": "stream",
     "text": [
      "5\n"
     ]
    }
   ],
   "source": [
    "nums=[5,7,9,6]\n",
    "for num in nums:\n",
    "    if num%5==0:\n",
    "        print(num)"
   ]
  },
  {
   "cell_type": "code",
   "execution_count": 55,
   "id": "899e1a82",
   "metadata": {},
   "outputs": [
    {
     "name": "stdout",
     "output_type": "stream",
     "text": [
      "Not found\n"
     ]
    }
   ],
   "source": [
    "nums=[1,2,3,4]\n",
    "for num in nums:\n",
    "    if num%5==0:\n",
    "        print(num)\n",
    "        break\n",
    "else:\n",
    "    print(\"Not found\")"
   ]
  },
  {
   "cell_type": "code",
   "execution_count": 63,
   "id": "7207ad43",
   "metadata": {},
   "outputs": [
    {
     "name": "stdout",
     "output_type": "stream",
     "text": [
      "Enter the length of array2\n",
      "Enter the next value1\n",
      "Enter the next value2\n",
      "array('i', [1, 2])\n",
      "Enter the value to search3\n"
     ]
    }
   ],
   "source": [
    "from array import *\n",
    "arr=array('i',[])\n",
    "n=int(input(\"Enter the length of array\"))\n",
    "for i in range(n):\n",
    "    x=int(input(\"Enter the next value\"))\n",
    "    arr.append(x)\n",
    "print(arr)\n",
    "val=int(input(\"Enter the value to search\"))\n",
    "k=0\n",
    "for e in arr:\n",
    "    if e==val:\n",
    "        print(k)\n",
    "        break\n",
    "    k+=1\n",
    "    print(arr.index(val))\n"
   ]
  },
  {
   "cell_type": "code",
   "execution_count": 65,
   "id": "fba99090",
   "metadata": {},
   "outputs": [
    {
     "name": "stdout",
     "output_type": "stream",
     "text": [
      "int32\n",
      "[1 2 3 4 5 6]\n"
     ]
    }
   ],
   "source": [
    "from numpy import *\n",
    "arr=array([1,2,3,4,5,6])\n",
    "print(arr.dtype)\n",
    "print(arr)"
   ]
  },
  {
   "cell_type": "code",
   "execution_count": 68,
   "id": "35efb5a9",
   "metadata": {},
   "outputs": [
    {
     "name": "stdout",
     "output_type": "stream",
     "text": [
      "[ 0.          0.30612245  0.6122449   0.91836735  1.2244898   1.53061224\n",
      "  1.83673469  2.14285714  2.44897959  2.75510204  3.06122449  3.36734694\n",
      "  3.67346939  3.97959184  4.28571429  4.59183673  4.89795918  5.20408163\n",
      "  5.51020408  5.81632653  6.12244898  6.42857143  6.73469388  7.04081633\n",
      "  7.34693878  7.65306122  7.95918367  8.26530612  8.57142857  8.87755102\n",
      "  9.18367347  9.48979592  9.79591837 10.10204082 10.40816327 10.71428571\n",
      " 11.02040816 11.32653061 11.63265306 11.93877551 12.24489796 12.55102041\n",
      " 12.85714286 13.16326531 13.46938776 13.7755102  14.08163265 14.3877551\n",
      " 14.69387755 15.        ]\n"
     ]
    }
   ],
   "source": [
    "from numpy import *\n",
    "arr=linspace(0,15)\n",
    "\n",
    "print(arr)"
   ]
  },
  {
   "cell_type": "code",
   "execution_count": 70,
   "id": "ec15e2b7",
   "metadata": {},
   "outputs": [
    {
     "name": "stdout",
     "output_type": "stream",
     "text": [
      "[1 3 5 7 9]\n"
     ]
    }
   ],
   "source": [
    "from numpy import *\n",
    "arr=arange(1,10,2)\n",
    "\n",
    "print(arr)"
   ]
  },
  {
   "cell_type": "code",
   "execution_count": 74,
   "id": "1461984a",
   "metadata": {},
   "outputs": [
    {
     "name": "stdout",
     "output_type": "stream",
     "text": [
      "10000000000000000303786028427003666890752.00\n"
     ]
    }
   ],
   "source": [
    "from numpy import *\n",
    "arr=logspace(1,40,5)\n",
    "print('%.2f'%arr[4])"
   ]
  },
  {
   "cell_type": "code",
   "execution_count": 76,
   "id": "a3e23109",
   "metadata": {},
   "outputs": [
    {
     "name": "stdout",
     "output_type": "stream",
     "text": [
      "[0. 0. 0. 0. 0.]\n"
     ]
    }
   ],
   "source": [
    "from numpy import*\n",
    "arr=zeros(5)\n",
    "print(arr)"
   ]
  },
  {
   "cell_type": "code",
   "execution_count": 77,
   "id": "9e9031cd",
   "metadata": {},
   "outputs": [
    {
     "name": "stdout",
     "output_type": "stream",
     "text": [
      "[1. 1. 1. 1. 1.]\n"
     ]
    }
   ],
   "source": [
    "from numpy import*\n",
    "arr=ones(5)\n",
    "print(arr)"
   ]
  },
  {
   "cell_type": "code",
   "execution_count": 79,
   "id": "75f4b180",
   "metadata": {},
   "outputs": [
    {
     "name": "stdout",
     "output_type": "stream",
     "text": [
      "[1 1 1 1 1]\n"
     ]
    }
   ],
   "source": [
    "from numpy import*\n",
    "arr=ones(5,int)\n",
    "print(arr)"
   ]
  },
  {
   "cell_type": "code",
   "execution_count": 81,
   "id": "39715670",
   "metadata": {},
   "outputs": [
    {
     "name": "stdout",
     "output_type": "stream",
     "text": [
      "[ 6  7  8  9 10]\n"
     ]
    }
   ],
   "source": [
    "from numpy import *\n",
    "arr =array([1,2,3,4,5])\n",
    "arr=arr+5\n",
    "print(arr)"
   ]
  },
  {
   "cell_type": "code",
   "execution_count": 84,
   "id": "a61cff44",
   "metadata": {},
   "outputs": [
    {
     "name": "stdout",
     "output_type": "stream",
     "text": [
      "[ 6  7  8  9 10]\n"
     ]
    }
   ],
   "source": [
    "from numpy import *\n",
    "arr1 =array([1,2,3,4,5])\n",
    "arr2 =array([1,2,3,4,5])\n",
    "arr3=arr1+arr2\n",
    "print(arr)"
   ]
  },
  {
   "cell_type": "code",
   "execution_count": 87,
   "id": "befb1efc",
   "metadata": {},
   "outputs": [
    {
     "name": "stdout",
     "output_type": "stream",
     "text": [
      "15\n"
     ]
    }
   ],
   "source": [
    "from numpy import *\n",
    "arr =array([1,2,3,4,5])\n",
    "\n",
    "print(sum(arr))\n",
    "* *we can find log,min,max,sort,sqrt"
   ]
  },
  {
   "cell_type": "code",
   "execution_count": 89,
   "id": "275a1a3f",
   "metadata": {},
   "outputs": [
    {
     "name": "stdout",
     "output_type": "stream",
     "text": [
      "1\n"
     ]
    }
   ],
   "source": [
    "from numpy import *\n",
    "arr =array([1,2,3,4,5])\n",
    "\n",
    "print(min(arr))"
   ]
  },
  {
   "cell_type": "code",
   "execution_count": 91,
   "id": "c3e5533d",
   "metadata": {},
   "outputs": [
    {
     "name": "stdout",
     "output_type": "stream",
     "text": [
      "[1 2 3 4 5 1 2 3 4 5]\n"
     ]
    }
   ],
   "source": [
    "from numpy import *\n",
    "arr1 =array([1,2,3,4,5])\n",
    "arr2 =array([1,2,3,4,5])\n",
    "print(concatenate([arr1,arr2]))"
   ]
  },
  {
   "cell_type": "code",
   "execution_count": 92,
   "id": "c10f868d",
   "metadata": {},
   "outputs": [
    {
     "name": "stdout",
     "output_type": "stream",
     "text": [
      "[1 2 3 4 5]\n",
      "[1 2 3 4 5]\n"
     ]
    }
   ],
   "source": [
    "from numpy import *\n",
    "arr1 =array([1,2,3,4,5])\n",
    "arr2=arr1.view()// shallow copy\n",
    "print(arr1)\n",
    "print(arr2)"
   ]
  },
  {
   "cell_type": "code",
   "execution_count": 93,
   "id": "2d9cfa58",
   "metadata": {},
   "outputs": [
    {
     "name": "stdout",
     "output_type": "stream",
     "text": [
      "[1 7 3 4 5]\n",
      "[1 2 3 4 5]\n"
     ]
    }
   ],
   "source": [
    "from numpy import *\n",
    "arr1 =array([1,2,3,4,5])\n",
    "arr2=arr1.copy()// two different array\n",
    "arr1[1]=7\n",
    "print(arr1)\n",
    "print(arr2)"
   ]
  },
  {
   "cell_type": "code",
   "execution_count": 94,
   "id": "0308f6dc",
   "metadata": {},
   "outputs": [
    {
     "name": "stdout",
     "output_type": "stream",
     "text": [
      "[1 2 3 4 5]\n",
      "[1 2 3 4 5]\n"
     ]
    }
   ],
   "source": [
    "from numpy import *\n",
    "arr1 =array([1,2,3,4,5])//alaising same memory address\n",
    "arr2=arr1\n",
    "print(arr1)\n",
    "print(arr2)"
   ]
  },
  {
   "cell_type": "code",
   "execution_count": 96,
   "id": "043ffbf1",
   "metadata": {},
   "outputs": [
    {
     "name": "stdout",
     "output_type": "stream",
     "text": [
      "[[1 2 3]\n",
      " [4 5 6]]\n"
     ]
    }
   ],
   "source": [
    "from numpy import *\n",
    "arr1=array([[1,2,3],[4,5,6]])\n",
    "print(arr1)"
   ]
  },
  {
   "cell_type": "code",
   "execution_count": 99,
   "id": "3f0c2a38",
   "metadata": {},
   "outputs": [
    {
     "name": "stdout",
     "output_type": "stream",
     "text": [
      "int32\n"
     ]
    }
   ],
   "source": [
    "from numpy import *\n",
    "arr1=array([[1,2,3],[4,5,6]])\n",
    "print(arr1.dtype)"
   ]
  },
  {
   "cell_type": "code",
   "execution_count": 100,
   "id": "1ac54340",
   "metadata": {},
   "outputs": [
    {
     "name": "stdout",
     "output_type": "stream",
     "text": [
      "2\n"
     ]
    }
   ],
   "source": [
    "from numpy import *\n",
    "arr1=array([[1,2,3],[4,5,6]])\n",
    "print(arr1.ndim)"
   ]
  },
  {
   "cell_type": "code",
   "execution_count": 101,
   "id": "9c51dcd5",
   "metadata": {},
   "outputs": [
    {
     "name": "stdout",
     "output_type": "stream",
     "text": [
      "(2, 3)\n"
     ]
    }
   ],
   "source": [
    "from numpy import *\n",
    "arr1=array([[1,2,3],[4,5,6]])\n",
    "print(arr1.shape)// number of row aND COLOUMN"
   ]
  },
  {
   "cell_type": "code",
   "execution_count": 102,
   "id": "9506f69f",
   "metadata": {},
   "outputs": [
    {
     "name": "stdout",
     "output_type": "stream",
     "text": [
      "6\n"
     ]
    }
   ],
   "source": [
    "from numpy import *\n",
    "arr1=array([[1,2,3],[4,5,6]])\n",
    "print(arr1.size)"
   ]
  },
  {
   "cell_type": "code",
   "execution_count": 103,
   "id": "224d3b13",
   "metadata": {},
   "outputs": [
    {
     "name": "stdout",
     "output_type": "stream",
     "text": [
      "[1 2 3 4 5 6]\n"
     ]
    }
   ],
   "source": [
    "from numpy import *\n",
    "arr1=array([[1,2,3],[4,5,6]])\n",
    "arr2=arr1.flatten()\n",
    "print(arr2)"
   ]
  },
  {
   "cell_type": "code",
   "execution_count": 114,
   "id": "ea52b351",
   "metadata": {},
   "outputs": [
    {
     "name": "stdout",
     "output_type": "stream",
     "text": [
      "[[1 2 3 4]\n",
      " [5 6 4 5]\n",
      " [6 7 8 9]]\n"
     ]
    }
   ],
   "source": [
    "from numpy import *\n",
    "arr1=array([[1,2,3,4,5,6],[4,5,6,7,8,9]])\n",
    "arr2=arr1.flatten()\n",
    "arr3=arr2.reshape(3,4)\n",
    "print(arr3)"
   ]
  },
  {
   "cell_type": "code",
   "execution_count": 115,
   "id": "2069a0cd",
   "metadata": {},
   "outputs": [
    {
     "name": "stdout",
     "output_type": "stream",
     "text": [
      "[[1 2 3]\n",
      " [4 5 6]]\n"
     ]
    }
   ],
   "source": [
    "from numpy import *\n",
    "arr1=array([[1,2,3],[4,5,6]])\n",
    "m=matrix(arr1)\n",
    "print(m)"
   ]
  },
  {
   "cell_type": "code",
   "execution_count": 118,
   "id": "31ddb25c",
   "metadata": {},
   "outputs": [
    {
     "name": "stdout",
     "output_type": "stream",
     "text": [
      "[1 5 9]\n"
     ]
    }
   ],
   "source": [
    "from numpy import *\n",
    "m=matrix('1,2,3;4,5,6;7,8,9')\n",
    "print(diagonal(m))"
   ]
  },
  {
   "cell_type": "code",
   "execution_count": 120,
   "id": "9c419483",
   "metadata": {},
   "outputs": [
    {
     "name": "stdout",
     "output_type": "stream",
     "text": [
      "1\n"
     ]
    }
   ],
   "source": [
    "from numpy import *\n",
    "m=matrix('1,2,3;4,5,6;7,8,9')\n",
    "print(m.min())"
   ]
  },
  {
   "cell_type": "code",
   "execution_count": 122,
   "id": "d95819e1",
   "metadata": {},
   "outputs": [
    {
     "name": "stdout",
     "output_type": "stream",
     "text": [
      "[[ 21  36  42]\n",
      " [ 48  81  96]\n",
      " [ 75 126 150]]\n"
     ]
    }
   ],
   "source": [
    "from numpy import *\n",
    "m1=matrix('1,2,3;4,5,6;7,8,9')\n",
    "m2=matrix('1,2,3;4,5,6;4,8,9')\n",
    "m3=m1*m2\n",
    "print(m3)\n"
   ]
  },
  {
   "cell_type": "code",
   "execution_count": 1,
   "id": "2fcfb22f",
   "metadata": {},
   "outputs": [],
   "source": [
    "def greek():\n",
    "    print(\"Hello\")\n",
    "    print(\"Good morning\")"
   ]
  },
  {
   "cell_type": "code",
   "execution_count": 2,
   "id": "5d2462cd",
   "metadata": {},
   "outputs": [
    {
     "name": "stdout",
     "output_type": "stream",
     "text": [
      "Hello\n",
      "Good morning\n"
     ]
    }
   ],
   "source": [
    "greek()"
   ]
  },
  {
   "cell_type": "code",
   "execution_count": 4,
   "id": "8cd902b4",
   "metadata": {},
   "outputs": [
    {
     "data": {
      "text/plain": [
       "9"
      ]
     },
     "execution_count": 4,
     "metadata": {},
     "output_type": "execute_result"
    }
   ],
   "source": [
    "def add(x,y):\n",
    "    c=x+y\n",
    "    return c\n",
    "add(5,4)\n",
    "    \n",
    "    "
   ]
  },
  {
   "cell_type": "code",
   "execution_count": 5,
   "id": "da345488",
   "metadata": {},
   "outputs": [
    {
     "data": {
      "text/plain": [
       "(9, 1)"
      ]
     },
     "execution_count": 5,
     "metadata": {},
     "output_type": "execute_result"
    }
   ],
   "source": [
    "def add_sub(x,y):\n",
    "    c=x+y\n",
    "    d=x-y\n",
    "    return c,d\n",
    "add_sub(5,4)\n",
    "    "
   ]
  },
  {
   "cell_type": "code",
   "execution_count": 7,
   "id": "bfabda0d",
   "metadata": {},
   "outputs": [
    {
     "name": "stdout",
     "output_type": "stream",
     "text": [
      "8\n",
      "10\n"
     ]
    }
   ],
   "source": [
    "def modify(a):\n",
    "    a=8\n",
    "    print (a)\n",
    "x=10\n",
    "modify(10)\n",
    "print(x)\n",
    "\n",
    "    "
   ]
  },
  {
   "cell_type": "code",
   "execution_count": 11,
   "id": "7a0fa100",
   "metadata": {},
   "outputs": [
    {
     "name": "stdout",
     "output_type": "stream",
     "text": [
      "1524875782400\n",
      "1524875782400\n",
      "1524875782400\n",
      "x [10, 25, 30, 40]\n",
      "lst [10, 25, 30, 40]\n"
     ]
    }
   ],
   "source": [
    "def update(lst):\n",
    "    print(id(lst))\n",
    "\n",
    "    lst[1]=25\n",
    "    print(id(lst))\n",
    "    print(\"x\",lst)\n",
    "lst=[10,20,30,40]\n",
    "print(id(lst))\n",
    "update(lst)\n",
    "print(\"lst\",lst)"
   ]
  },
  {
   "cell_type": "code",
   "execution_count": 12,
   "id": "174106e3",
   "metadata": {},
   "outputs": [
    {
     "name": "stdout",
     "output_type": "stream",
     "text": [
      "11\n"
     ]
    }
   ],
   "source": [
    "def add(a,b):\n",
    "    c=a+b\n",
    "    print(c)\n",
    "add(5,6)\n",
    "    "
   ]
  },
  {
   "cell_type": "code",
   "execution_count": 13,
   "id": "954f2137",
   "metadata": {},
   "outputs": [
    {
     "name": "stdout",
     "output_type": "stream",
     "text": [
      "Zoya\n",
      "19\n"
     ]
    }
   ],
   "source": [
    "def person(name,age):\n",
    "    print(name)\n",
    "    print(age)\n",
    "person('Zoya',19)"
   ]
  },
  {
   "cell_type": "code",
   "execution_count": 14,
   "id": "cc6b4397",
   "metadata": {},
   "outputs": [
    {
     "name": "stdout",
     "output_type": "stream",
     "text": [
      "Zoya\n",
      "19\n"
     ]
    }
   ],
   "source": [
    "def person(name,age):\n",
    "    print(name)\n",
    "    print(age)\n",
    "person(name='Zoya',age=19)"
   ]
  },
  {
   "cell_type": "code",
   "execution_count": 15,
   "id": "be3599b7",
   "metadata": {},
   "outputs": [
    {
     "name": "stdout",
     "output_type": "stream",
     "text": [
      "Zoya\n",
      "18\n"
     ]
    }
   ],
   "source": [
    "def person(name,age=18):\n",
    "    print(name)\n",
    "    print(age)\n",
    "person(name='Zoya')"
   ]
  },
  {
   "cell_type": "code",
   "execution_count": 16,
   "id": "855b01c3",
   "metadata": {},
   "outputs": [
    {
     "name": "stdout",
     "output_type": "stream",
     "text": [
      "12\n"
     ]
    }
   ],
   "source": [
    "def sum(a,b):\n",
    "    c=a+b\n",
    "    print(c)\n",
    "sum(4,8)"
   ]
  },
  {
   "cell_type": "code",
   "execution_count": 17,
   "id": "e69205aa",
   "metadata": {},
   "outputs": [
    {
     "name": "stdout",
     "output_type": "stream",
     "text": [
      "173\n"
     ]
    }
   ],
   "source": [
    "def sum(a,*b):\n",
    "    c=a\n",
    "    for i in b:\n",
    "        c=c+i\n",
    "    print(c)\n",
    "sum(1,44,55,66,7)"
   ]
  },
  {
   "cell_type": "code",
   "execution_count": 19,
   "id": "be83f134",
   "metadata": {},
   "outputs": [
    {
     "name": "stdout",
     "output_type": "stream",
     "text": [
      "zoya\n",
      "{'age': 19, 'city': 'shimoga', 'mobno': 778866889}\n"
     ]
    }
   ],
   "source": [
    "def person(name,**data):\n",
    "    print(name)\n",
    "    print(data)\n",
    "person('zoya',age=19,city='shimoga',mobno=778866889)"
   ]
  },
  {
   "cell_type": "code",
   "execution_count": 25,
   "id": "bb02ef75",
   "metadata": {},
   "outputs": [
    {
     "name": "stdout",
     "output_type": "stream",
     "text": [
      "zoya\n",
      "age 19\n",
      "city shimoga\n",
      "mobno 778866889\n"
     ]
    }
   ],
   "source": [
    "def person(name,**data):\n",
    "    print(name)\n",
    "    for i,j in data.items():\n",
    "        print(i,j)\n",
    "person('zoya',age=19,city='shimoga',mobno=778866889)"
   ]
  },
  {
   "cell_type": "code",
   "execution_count": 30,
   "id": "091a0ffc",
   "metadata": {},
   "outputs": [
    {
     "name": "stdout",
     "output_type": "stream",
     "text": [
      "in func 15\n",
      "Outside 10\n"
     ]
    }
   ],
   "source": [
    "a=10\n",
    "def adad():\n",
    "    a=15\n",
    "    print(\"in func\",a)\n",
    "adad()\n",
    "print(\"Outside\",a)"
   ]
  },
  {
   "cell_type": "code",
   "execution_count": 31,
   "id": "aea69e5a",
   "metadata": {},
   "outputs": [
    {
     "name": "stdout",
     "output_type": "stream",
     "text": [
      "in func 15\n",
      "Outside 15\n"
     ]
    }
   ],
   "source": [
    "a=10\n",
    "def adad():\n",
    "    global a\n",
    "    a=15\n",
    "    print(\"in func\",a)\n",
    "adad()\n",
    "print(\"Outside\",a)"
   ]
  },
  {
   "cell_type": "code",
   "execution_count": 35,
   "id": "e3b24a1f",
   "metadata": {},
   "outputs": [
    {
     "name": "stdout",
     "output_type": "stream",
     "text": [
      "1524796228112\n",
      "1524796228112\n",
      "in func 8\n",
      "Outside 15\n"
     ]
    }
   ],
   "source": [
    "a=10\n",
    "print(id(a))\n",
    "def adad():\n",
    "    a=8\n",
    "    x=globals()['a']\n",
    "    print(id(x))\n",
    "    print(\"in func\",a)\n",
    "    globals()['a']=15\n",
    "adad()\n",
    "print(\"Outside\",a)"
   ]
  },
  {
   "cell_type": "code",
   "execution_count": 39,
   "id": "76abfa29",
   "metadata": {},
   "outputs": [
    {
     "name": "stdout",
     "output_type": "stream",
     "text": [
      "Even: 4 and odd : 5\n"
     ]
    }
   ],
   "source": [
    "def count(lst):\n",
    "    even=0\n",
    "    odd=0\n",
    "    for i in lst:\n",
    "        if(i%2==0):\n",
    "            even+=1\n",
    "        else:\n",
    "            odd+=1\n",
    "    return even,odd\n",
    "lst=[1,2,3,4,5,6,7,8,9]\n",
    "even, odd=count(lst)\n",
    "print(\"Even: {} and odd : {}\".format(even,odd))"
   ]
  },
  {
   "cell_type": "code",
   "execution_count": 41,
   "id": "7a326b29",
   "metadata": {},
   "outputs": [
    {
     "name": "stdout",
     "output_type": "stream",
     "text": [
      "0\n",
      "1\n",
      "2\n",
      "3\n",
      "5\n"
     ]
    }
   ],
   "source": [
    "def fib(n):\n",
    "    a=0\n",
    "    b=1\n",
    "    print(a)\n",
    "    print(b)\n",
    "    for i in range(2,n):\n",
    "        c=a+b\n",
    "        a=b\n",
    "        b=c\n",
    "        print(a+b)\n",
    "fib(5)"
   ]
  },
  {
   "cell_type": "code",
   "execution_count": 43,
   "id": "98b64021",
   "metadata": {},
   "outputs": [
    {
     "name": "stdout",
     "output_type": "stream",
     "text": [
      "0\n"
     ]
    }
   ],
   "source": [
    "def fib(n):\n",
    "    a=0\n",
    "    b=1\n",
    "    if(n==1):\n",
    "        print(a)\n",
    "    else:\n",
    "        print(a)\n",
    "        print(b)\n",
    "    for i in range(2,n):\n",
    "        c=a+b\n",
    "        a=b\n",
    "        b=c\n",
    "        print(a+b)\n",
    "fib(1)"
   ]
  },
  {
   "cell_type": "code",
   "execution_count": 44,
   "id": "6778d54d",
   "metadata": {},
   "outputs": [
    {
     "name": "stdout",
     "output_type": "stream",
     "text": [
      "120\n"
     ]
    }
   ],
   "source": [
    "def fact(n):\n",
    "    f=1\n",
    "    for i in range(1,n+1):\n",
    "        f=f*i\n",
    "    return f\n",
    "x=5\n",
    "result=fact(x)\n",
    "print(result)\n",
    "        "
   ]
  },
  {
   "cell_type": "code",
   "execution_count": 46,
   "id": "b3aa3293",
   "metadata": {},
   "outputs": [
    {
     "name": "stdout",
     "output_type": "stream",
     "text": [
      "3000\n"
     ]
    }
   ],
   "source": [
    "\n",
    "import sys\n",
    "print(sys.getrecursionlimit())\n",
    "def greek():\n",
    "    print(\"Hello\")\n",
    "    greek()\n",
    "    "
   ]
  },
  {
   "cell_type": "code",
   "execution_count": 47,
   "id": "f8d919db",
   "metadata": {},
   "outputs": [
    {
     "name": "stdout",
     "output_type": "stream",
     "text": [
      "120\n"
     ]
    }
   ],
   "source": [
    "def fact(n):\n",
    "    if (n==0):\n",
    "        return 1\n",
    "    return n*fact(n-1)\n",
    "result=fact(5)\n",
    "print(result)"
   ]
  },
  {
   "cell_type": "code",
   "execution_count": 48,
   "id": "b0439286",
   "metadata": {},
   "outputs": [
    {
     "name": "stdout",
     "output_type": "stream",
     "text": [
      "25\n"
     ]
    }
   ],
   "source": [
    "def square(a):\n",
    "    return a*a\n",
    "result=square(5)\n",
    "print(result)"
   ]
  },
  {
   "cell_type": "code",
   "execution_count": 51,
   "id": "26629b11",
   "metadata": {},
   "outputs": [
    {
     "name": "stdout",
     "output_type": "stream",
     "text": [
      "25\n"
     ]
    }
   ],
   "source": [
    "f=lambda a:a*a\n",
    "result=f(5)\n",
    "print(result)"
   ]
  },
  {
   "cell_type": "code",
   "execution_count": 52,
   "id": "f7ee7eb6",
   "metadata": {},
   "outputs": [
    {
     "name": "stdout",
     "output_type": "stream",
     "text": [
      "11\n"
     ]
    }
   ],
   "source": [
    "f=lambda a,b:a+b\n",
    "result=f(5,6)\n",
    "print(result)"
   ]
  },
  {
   "cell_type": "code",
   "execution_count": 55,
   "id": "02db6726",
   "metadata": {},
   "outputs": [
    {
     "name": "stdout",
     "output_type": "stream",
     "text": [
      "[4, 6, 8]\n"
     ]
    }
   ],
   "source": [
    "def is_even(n):\n",
    "    return n%2==0\n",
    "nums=[3,4,5,6,7,8]\n",
    "evens=list(filter(is_even,nums))\n",
    "print(evens)"
   ]
  },
  {
   "cell_type": "code",
   "execution_count": 56,
   "id": "1dedc627",
   "metadata": {},
   "outputs": [
    {
     "name": "stdout",
     "output_type": "stream",
     "text": [
      "[4, 6, 8]\n"
     ]
    }
   ],
   "source": [
    "nums=[3,4,5,6,7,8]\n",
    "evens=list(filter(lambda n: n%2==0,nums))\n",
    "print(evens)"
   ]
  },
  {
   "cell_type": "code",
   "execution_count": 58,
   "id": "6ca213c1",
   "metadata": {},
   "outputs": [
    {
     "name": "stdout",
     "output_type": "stream",
     "text": [
      "[4, 6, 8]\n",
      "[8, 12, 16]\n"
     ]
    }
   ],
   "source": [
    "nums=[3,4,5,6,7,8]\n",
    "evens=list(filter(lambda n: n%2==0,nums))\n",
    "double=list(map(lambda n: n*2,evens))\n",
    "print(evens)\n",
    "print(double)"
   ]
  },
  {
   "cell_type": "code",
   "execution_count": 61,
   "id": "63af0e6e",
   "metadata": {},
   "outputs": [
    {
     "name": "stdout",
     "output_type": "stream",
     "text": [
      "[4, 6, 8]\n",
      "[8, 12, 16]\n",
      "36\n"
     ]
    }
   ],
   "source": [
    "from functools import reduce\n",
    "nums=[3,4,5,6,7,8]\n",
    "evens=list(filter(lambda n: n%2==0,nums))\n",
    "double=list(map(lambda n: n*2,evens))\n",
    "sum=reduce(lambda a,b: a+b,double)\n",
    "print(evens)\n",
    "print(double)\n",
    "print(sum)"
   ]
  },
  {
   "cell_type": "code",
   "execution_count": 63,
   "id": "e4eeaa24",
   "metadata": {},
   "outputs": [
    {
     "name": "stdout",
     "output_type": "stream",
     "text": [
      "2.0\n"
     ]
    }
   ],
   "source": [
    "def div(a,b):\n",
    "    print(a/b)\n",
    "def smart_div(func):\n",
    "    def inner(a,b):\n",
    "        if(a<b):\n",
    "            a,b=b,a\n",
    "        return func(a,b)\n",
    "    return inner\n",
    "div1=smart_div(div)\n",
    "div1(2,4)"
   ]
  },
  {
   "cell_type": "code",
   "execution_count": 69,
   "id": "07ba853b",
   "metadata": {},
   "outputs": [
    {
     "name": "stdout",
     "output_type": "stream",
     "text": [
      "__main__\n"
     ]
    }
   ],
   "source": [
    "print(__name__)"
   ]
  },
  {
   "cell_type": "code",
   "execution_count": 8,
   "id": "24636601",
   "metadata": {},
   "outputs": [
    {
     "name": "stdout",
     "output_type": "stream",
     "text": [
      "i5, 16gb, 1tb\n",
      "i5, 16gb, 1tb\n",
      "i5, 16gb, 1tb\n",
      "i5, 16gb, 1tb\n"
     ]
    }
   ],
   "source": [
    "class computer:\n",
    "    def config(self):\n",
    "        print(\"i5, 16gb, 1tb\")\n",
    "com1=computer()\n",
    "com2=computer()\n",
    "computer.config(com1)\n",
    "computer.config(com2)\n",
    "com1.config()\n",
    "com2.config()"
   ]
  },
  {
   "cell_type": "code",
   "execution_count": 10,
   "id": "f8c81937",
   "metadata": {},
   "outputs": [
    {
     "name": "stdout",
     "output_type": "stream",
     "text": [
      "in init\n",
      "in init\n",
      "i5, 16gb, 1tb\n",
      "i5, 16gb, 1tb\n"
     ]
    }
   ],
   "source": [
    "class computer:\n",
    "    def __init__(self):\n",
    "        print(\"in init\")\n",
    "    def config(self):\n",
    "        print(\"i5, 16gb, 1tb\")\n",
    "com1=computer()\n",
    "com2=computer()\n",
    "com1.config()\n",
    "com2.config()"
   ]
  },
  {
   "cell_type": "code",
   "execution_count": 12,
   "id": "ee5d60ba",
   "metadata": {},
   "outputs": [
    {
     "name": "stdout",
     "output_type": "stream",
     "text": [
      "config is i5 16\n",
      "config is Rysen 8\n"
     ]
    }
   ],
   "source": [
    "class computer:\n",
    "    def __init__(self,cpu,ram):\n",
    "        self.cpu=cpu\n",
    "        self.ram=ram\n",
    "        \n",
    "    def config(self):\n",
    "        print(\"config is\",self.cpu,self.ram)\n",
    "com1=computer(\"i5\",16)\n",
    "com2=computer(\"Rysen\",8)\n",
    "com1.config()\n",
    "com2.config()"
   ]
  },
  {
   "cell_type": "code",
   "execution_count": 13,
   "id": "a18872e6",
   "metadata": {},
   "outputs": [
    {
     "name": "stdout",
     "output_type": "stream",
     "text": [
      "2349112832544\n",
      "2349112826592\n"
     ]
    }
   ],
   "source": [
    "class computer:\n",
    "    pass\n",
    "c1=computer()\n",
    "c2=computer()\n",
    "print(id(c1))\n",
    "print(id(c2))"
   ]
  },
  {
   "cell_type": "code",
   "execution_count": 15,
   "id": "6c05bc91",
   "metadata": {},
   "outputs": [
    {
     "name": "stdout",
     "output_type": "stream",
     "text": [
      "Ani\n",
      "Zoya\n"
     ]
    }
   ],
   "source": [
    "class computer:\n",
    "    def __init__(self):\n",
    "        self.name=\"Zoya\"\n",
    "        self.age=19\n",
    "c1=computer()\n",
    "c2=computer()\n",
    "c1.name=\"Ani\"\n",
    "c1.age=18\n",
    "print(c1.name)\n",
    "print(c2.name)\n",
    "    "
   ]
  },
  {
   "cell_type": "code",
   "execution_count": 16,
   "id": "6ecc12ca",
   "metadata": {},
   "outputs": [
    {
     "name": "stdout",
     "output_type": "stream",
     "text": [
      "Ani\n",
      "Zoya\n"
     ]
    }
   ],
   "source": [
    "class computer:\n",
    "    def __init__(self):\n",
    "        self.name=\"Zoya\"\n",
    "        self.age=19\n",
    "    def update(self):\n",
    "        self.age=30\n",
    "c1=computer()\n",
    "c2=computer()\n",
    "c1.name=\"Ani\"\n",
    "c1.age=18\n",
    "c1.update()\n",
    "print(c1.name)\n",
    "print(c2.name)\n",
    "    "
   ]
  },
  {
   "cell_type": "code",
   "execution_count": 19,
   "id": "630a1e15",
   "metadata": {},
   "outputs": [
    {
     "name": "stdout",
     "output_type": "stream",
     "text": [
      "They are same\n",
      "Zoya\n",
      "Zoya\n"
     ]
    }
   ],
   "source": [
    "class computer:\n",
    "    def __init__(self):\n",
    "        self.name=\"Zoya\"\n",
    "        self.age=19\n",
    "    def update(self):\n",
    "        self.age=30\n",
    "    def compare(self,other):\n",
    "        if(self.age==other.age):\n",
    "            return True\n",
    "        else:\n",
    "            return False\n",
    "c1=computer()\n",
    "c2=computer()\n",
    "if c1.compare(c2):\n",
    "    print(\"They are same\")\n",
    "\n",
    "print(c1.name)\n",
    "print(c2.name)\n",
    "    "
   ]
  },
  {
   "cell_type": "code",
   "execution_count": 20,
   "id": "0838232d",
   "metadata": {},
   "outputs": [
    {
     "name": "stdout",
     "output_type": "stream",
     "text": [
      "BMW 10\n",
      "BMW 10\n"
     ]
    }
   ],
   "source": [
    "class car:\n",
    "    def __init__(self):\n",
    "        self.mil=10\n",
    "        self.comp=\"BMW\"\n",
    "c1=car()\n",
    "c2=car()\n",
    "print(c1.comp,c1.mil)\n",
    "print(c2.comp,c2.mil)\n"
   ]
  },
  {
   "cell_type": "code",
   "execution_count": 23,
   "id": "cbe28178",
   "metadata": {},
   "outputs": [
    {
     "name": "stdout",
     "output_type": "stream",
     "text": [
      "BMW 8 5\n",
      "BMW 10 5\n"
     ]
    }
   ],
   "source": [
    "class car:\n",
    "    wheels=4\n",
    "    def __init__(self):\n",
    "        self.mil=10\n",
    "        self.comp=\"BMW\"\n",
    "c1=car()\n",
    "c2=car()\n",
    "c1.mil=8\n",
    "car.wheels=5\n",
    "print(c1.comp,c1.mil,c1.wheels)\n",
    "print(c2.comp,c2.mil,c2.wheels)\n"
   ]
  },
  {
   "cell_type": "code",
   "execution_count": 35,
   "id": "7651ea64",
   "metadata": {},
   "outputs": [
    {
     "name": "stdout",
     "output_type": "stream",
     "text": [
      "22.0\n",
      "40.333333333333336\n",
      "PESItm\n",
      "This is student class..in the module\n"
     ]
    }
   ],
   "source": [
    "class student:\n",
    "    school=\"PESItm\"\n",
    "    def __init__(self,m1,m2,m3):\n",
    "        self.m1=m1\n",
    "        self.m2=m2\n",
    "        self.m3=m3\n",
    "    def avg(self):\n",
    "        return(self.m1+self.m2+self.m3)/3\n",
    "    @classmethod\n",
    "    def getschool(cls):\n",
    "        return cls.school\n",
    "    @staticmethod\n",
    "    def info():\n",
    "        print(\"This is student class..in the module\")\n",
    "        \n",
    "s1=student(11,22,33)\n",
    "s2=student(22,44,55)\n",
    "print(s1.avg())\n",
    "print(s2.avg())\n",
    "print(student.getschool())\n",
    "student.info()\n"
   ]
  },
  {
   "cell_type": "code",
   "execution_count": 40,
   "id": "47a9c54d",
   "metadata": {},
   "outputs": [
    {
     "name": "stdout",
     "output_type": "stream",
     "text": [
      "Zoya 22\n",
      "HP i5 8\n"
     ]
    }
   ],
   "source": [
    "class student:\n",
    "    def __init__(self,name,rollno):\n",
    "        self.name=name\n",
    "        self.rollno=rollno\n",
    "        self.lap=self.laptop()\n",
    "    def show(self):\n",
    "        print(self.name,self.rollno)\n",
    "        self.lap.show()\n",
    "    class laptop:\n",
    "        def __init__(self):\n",
    "            self.brand=\"HP\"\n",
    "            self.cpu=\"i5\"\n",
    "            self.ram=8\n",
    "        def show(self):\n",
    "            print(self.brand,self.cpu,self.ram)\n",
    "s1=student(\"Zoya\",22)\n",
    "s2=student(\"Ani\",44)\n",
    "s1.show()\n"
   ]
  },
  {
   "cell_type": "code",
   "execution_count": 48,
   "id": "2626eb3e",
   "metadata": {},
   "outputs": [
    {
     "name": "stdout",
     "output_type": "stream",
     "text": [
      "Feature1 working\n",
      "Feature2 working\n"
     ]
    }
   ],
   "source": [
    "class A:\n",
    "    def feature1(self):\n",
    "        print(\"Feature1 working\")\n",
    "    def feature2(self):\n",
    "        print(\"Feature2 working\")\n",
    "class B:\n",
    "    \n",
    "     def feature3(self):\n",
    "        print(\"Feature3 working\")\n",
    "     def feature4(self):\n",
    "        print(\"Feature 4 is working\")\n",
    "    \n",
    "class C(A,B):\n",
    "    def feature5(self):\n",
    "        print(\"Feature5 working\")\n",
    "    \n",
    "a1=A()\n",
    "a1.feature1()\n",
    "a1.feature2()\n",
    "b1=B()\n",
    "c1=C()\n",
    "\n",
    "    "
   ]
  },
  {
   "cell_type": "code",
   "execution_count": 80,
   "id": "94c7a9d6",
   "metadata": {},
   "outputs": [
    {
     "name": "stdout",
     "output_type": "stream",
     "text": [
      "Spell check\n",
      "Convention check\n",
      "Compiling\n",
      "Running\n"
     ]
    }
   ],
   "source": [
    "class pycharm:\n",
    "    def execute(self):\n",
    "        print(\"Compilling\")\n",
    "        print(\"Running\")\n",
    "class myeditor:\n",
    "    def execute(self):\n",
    "        print(\"Spell check\")\n",
    "        print(\"Convention check\")\n",
    "        print(\"Compiling\")\n",
    "        print(\"Running\")\n",
    "class laptop:\n",
    "    def code(self,ide):\n",
    "        ide.execute()\n",
    "ide=myeditor()\n",
    "lap1=laptop()\n",
    "lap1.code(ide)\n",
    "\n",
    "        "
   ]
  },
  {
   "cell_type": "code",
   "execution_count": 81,
   "id": "c1caac0f",
   "metadata": {},
   "outputs": [
    {
     "name": "stdout",
     "output_type": "stream",
     "text": [
      "5\n"
     ]
    }
   ],
   "source": [
    "print(int.__add__(2,3))"
   ]
  },
  {
   "cell_type": "code",
   "execution_count": 93,
   "id": "aeabd984",
   "metadata": {},
   "outputs": [
    {
     "name": "stdout",
     "output_type": "stream",
     "text": [
      "165\n"
     ]
    }
   ],
   "source": [
    "class student:\n",
    "    def __init__(self,m1,m2):\n",
    "        self.m1=m1\n",
    "        self.m2=m2\n",
    "    def __add__(self,other):\n",
    "        m1=self.m1+other.m1\n",
    "        m2=self.m2+other.m2\n",
    "        s3=student(m1,m2)\n",
    "        return s3\n",
    "\n",
    "s1=student(77,88)\n",
    "s2=student(88,77)\n",
    "s3=s1+s2\n",
    "print(s3.m1)\n"
   ]
  },
  {
   "cell_type": "code",
   "execution_count": 100,
   "id": "24157629",
   "metadata": {},
   "outputs": [
    {
     "name": "stdout",
     "output_type": "stream",
     "text": [
      "14\n"
     ]
    }
   ],
   "source": [
    "class student:\n",
    "    def __init__(self,m1,m2):\n",
    "        self.m1=m1\n",
    "        self.m2=m2\n",
    "    def sum(self,a=None,b=None,c=None):\n",
    "        s=0\n",
    "        if a!=None and b!=None and c!=None:\n",
    "            s=a+b+c\n",
    "        elif(a!=None and b!=None):\n",
    "            s=a+b\n",
    "        else:\n",
    "            s=a\n",
    "        return s\n",
    "s1=student(22,44)\n",
    "print(s1.sum(5,9))"
   ]
  },
  {
   "cell_type": "code",
   "execution_count": 101,
   "id": "70c55bb3",
   "metadata": {},
   "outputs": [
    {
     "name": "stdout",
     "output_type": "stream",
     "text": [
      "in A show\n"
     ]
    }
   ],
   "source": [
    "class A:\n",
    "    def show(self):\n",
    "        print(\"in A show\")\n",
    "class B(A):\n",
    "    pass\n",
    "a1=B()\n",
    "a1.show()"
   ]
  },
  {
   "cell_type": "code",
   "execution_count": 104,
   "id": "4fc03ade",
   "metadata": {},
   "outputs": [
    {
     "name": "stdout",
     "output_type": "stream",
     "text": [
      "1\n",
      "2\n",
      "1\n",
      "2\n",
      "3\n",
      "4\n"
     ]
    }
   ],
   "source": [
    "n=[1,2,3,4]\n",
    "it=iter(n)\n",
    "print(it.__next__())\n",
    "print(next(it))\n",
    "for i in n:\n",
    "    print(i)"
   ]
  },
  {
   "cell_type": "code",
   "execution_count": 114,
   "id": "3169023d",
   "metadata": {},
   "outputs": [
    {
     "name": "stdout",
     "output_type": "stream",
     "text": [
      "1\n",
      "2\n",
      "3\n"
     ]
    }
   ],
   "source": [
    "def topten():\n",
    "    yield 1\n",
    "    yield 2\n",
    "    yield 3\n",
    "values=topten()\n",
    "print(values.__next__())\n",
    "for i in values:\n",
    "    print(i)\n",
    "    \n"
   ]
  },
  {
   "cell_type": "code",
   "execution_count": 116,
   "id": "21083e3d",
   "metadata": {},
   "outputs": [
    {
     "name": "stdout",
     "output_type": "stream",
     "text": [
      "1\n",
      "4\n",
      "9\n",
      "16\n",
      "25\n",
      "36\n",
      "49\n",
      "64\n",
      "81\n",
      "100\n"
     ]
    }
   ],
   "source": [
    "def topten():\n",
    "    n=1\n",
    "    while n<=10:\n",
    "        sq=n*n\n",
    "        yield sq\n",
    "        n+=1\n",
    "    \n",
    "values=topten()\n",
    "for i in values:\n",
    "    print(i)"
   ]
  },
  {
   "cell_type": "code",
   "execution_count": 119,
   "id": "0e4dcc9b",
   "metadata": {},
   "outputs": [
    {
     "name": "stdout",
     "output_type": "stream",
     "text": [
      "0.5714285714285714\n"
     ]
    }
   ],
   "source": [
    "a=4\n",
    "b=7\n",
    "print(a/b)"
   ]
  },
  {
   "cell_type": "code",
   "execution_count": 125,
   "id": "bc57a3ea",
   "metadata": {},
   "outputs": [
    {
     "name": "stdout",
     "output_type": "stream",
     "text": [
      "Resource open\n",
      "2.5\n",
      "Enter a numberk\n",
      "Invalid input\n",
      "Resourse closed\n"
     ]
    }
   ],
   "source": [
    "a=5\n",
    "b=2\n",
    "try:\n",
    "    print(\"Resource open\")\n",
    "    print(a/b)\n",
    "    k=int(input(\"Enter a number\"))\n",
    "    print(k)\n",
    "\n",
    "except ZeroDivisionError as e:\n",
    "    print(\"you cannot divide a numbee by zero\",e)\n",
    "except ValueError as e:\n",
    "    print(\"Invalid input\")\n",
    "except Exception as e:\n",
    "    print(\"Something went wrong..\")\n",
    "finally:\n",
    "    print(\"Resourse closed\")"
   ]
  },
  {
   "cell_type": "code",
   "execution_count": 127,
   "id": "a0e9738d",
   "metadata": {},
   "outputs": [
    {
     "name": "stdout",
     "output_type": "stream",
     "text": [
      "Hello\n",
      "Hello\n",
      "Hello\n",
      "Hello\n",
      "Hello\n",
      "Hi\n",
      "Hi\n",
      "Hi\n",
      "Hi\n",
      "Hi\n"
     ]
    }
   ],
   "source": [
    "class hello:\n",
    "    def run(self):\n",
    "        for i in range(5):\n",
    "            print(\"Hello\")\n",
    "class hi:\n",
    "     def run(self):\n",
    "        for i in range(5):\n",
    "            print(\"Hi\")\n",
    "t1=hello()\n",
    "t2=hi()\n",
    "t1.run()\n",
    "t2.run()\n",
    "    "
   ]
  },
  {
   "cell_type": "code",
   "execution_count": 131,
   "id": "51b391d8",
   "metadata": {},
   "outputs": [
    {
     "name": "stdout",
     "output_type": "stream",
     "text": [
      "Hello\n",
      "Hi\n",
      "Hello\n",
      "Hi\n",
      "Hello\n",
      "Hi\n",
      "Hello\n",
      "Hi\n",
      "Hello\n",
      "Hi\n",
      "Bye\n"
     ]
    }
   ],
   "source": [
    "from time import sleep\n",
    "from threading import *\n",
    "class hello(Thread):\n",
    "    def run(self):\n",
    "        for i in range(5):\n",
    "            print(\"Hello\")\n",
    "            sleep(1)\n",
    "class hi(Thread):\n",
    "     def run(self):\n",
    "        for i in range(5):\n",
    "            print(\"Hi\")\n",
    "            sleep(1)\n",
    "t1=hello()\n",
    "t2=hi()\n",
    "t1.start()\n",
    "sleep(0.2)\n",
    "t2.start()\n",
    "t1.join()\n",
    "t2.join()\n",
    "print(\"Bye\")\n",
    "    "
   ]
  }
 ],
 "metadata": {
  "kernelspec": {
   "display_name": "Python 3 (ipykernel)",
   "language": "python",
   "name": "python3"
  },
  "language_info": {
   "codemirror_mode": {
    "name": "ipython",
    "version": 3
   },
   "file_extension": ".py",
   "mimetype": "text/x-python",
   "name": "python",
   "nbconvert_exporter": "python",
   "pygments_lexer": "ipython3",
   "version": "3.10.9"
  }
 },
 "nbformat": 4,
 "nbformat_minor": 5
}
